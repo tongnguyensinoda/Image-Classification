{
 "cells": [
  {
   "cell_type": "markdown",
   "metadata": {},
   "source": [
    "# Import libraries requires"
   ]
  },
  {
   "cell_type": "code",
   "execution_count": 44,
   "metadata": {},
   "outputs": [],
   "source": [
    "import pandas as pd\n",
    "import numpy as np\n",
    "import matplotlib.pyplot as plt\n",
    "import random\n",
    "import os\n",
    "from glob import glob\n",
    "import seaborn as sns\n",
    "from PIL import Image\n",
    "import keras\n",
    "from keras.utils.np_utils import to_categorical\n",
    "from keras.models import Sequential\n",
    "from keras.layers import Dense, Dropout, Flatten, Conv2D, MaxPool2D, BatchNormalization\n",
    "from sklearn.model_selection import train_test_split\n",
    "from scipy import stats\n",
    "from sklearn.utils import resample\n",
    "from sklearn.metrics import classification_report, confusion_matrix\n",
    "\n",
    "# Default input size\n",
    "SIZE = 32"
   ]
  },
  {
   "cell_type": "markdown",
   "metadata": {},
   "source": [
    "# Loading dataset"
   ]
  },
  {
   "cell_type": "code",
   "execution_count": 2,
   "metadata": {},
   "outputs": [
    {
     "data": {
      "text/html": [
       "<div>\n",
       "<style scoped>\n",
       "    .dataframe tbody tr th:only-of-type {\n",
       "        vertical-align: middle;\n",
       "    }\n",
       "\n",
       "    .dataframe tbody tr th {\n",
       "        vertical-align: top;\n",
       "    }\n",
       "\n",
       "    .dataframe thead th {\n",
       "        text-align: right;\n",
       "    }\n",
       "</style>\n",
       "<table border=\"1\" class=\"dataframe\">\n",
       "  <thead>\n",
       "    <tr style=\"text-align: right;\">\n",
       "      <th></th>\n",
       "      <th>InstanceID</th>\n",
       "      <th>patientID</th>\n",
       "      <th>ImageName</th>\n",
       "      <th>cellTypeName</th>\n",
       "      <th>cellType</th>\n",
       "      <th>isCancerous</th>\n",
       "    </tr>\n",
       "  </thead>\n",
       "  <tbody>\n",
       "    <tr>\n",
       "      <th>0</th>\n",
       "      <td>22405</td>\n",
       "      <td>1</td>\n",
       "      <td>22405.png</td>\n",
       "      <td>fibroblast</td>\n",
       "      <td>0</td>\n",
       "      <td>0</td>\n",
       "    </tr>\n",
       "    <tr>\n",
       "      <th>1</th>\n",
       "      <td>22406</td>\n",
       "      <td>1</td>\n",
       "      <td>22406.png</td>\n",
       "      <td>fibroblast</td>\n",
       "      <td>0</td>\n",
       "      <td>0</td>\n",
       "    </tr>\n",
       "    <tr>\n",
       "      <th>2</th>\n",
       "      <td>22407</td>\n",
       "      <td>1</td>\n",
       "      <td>22407.png</td>\n",
       "      <td>fibroblast</td>\n",
       "      <td>0</td>\n",
       "      <td>0</td>\n",
       "    </tr>\n",
       "    <tr>\n",
       "      <th>3</th>\n",
       "      <td>22408</td>\n",
       "      <td>1</td>\n",
       "      <td>22408.png</td>\n",
       "      <td>fibroblast</td>\n",
       "      <td>0</td>\n",
       "      <td>0</td>\n",
       "    </tr>\n",
       "    <tr>\n",
       "      <th>4</th>\n",
       "      <td>22409</td>\n",
       "      <td>1</td>\n",
       "      <td>22409.png</td>\n",
       "      <td>fibroblast</td>\n",
       "      <td>0</td>\n",
       "      <td>0</td>\n",
       "    </tr>\n",
       "  </tbody>\n",
       "</table>\n",
       "</div>"
      ],
      "text/plain": [
       "   InstanceID  patientID  ImageName cellTypeName  cellType  isCancerous\n",
       "0       22405          1  22405.png   fibroblast         0            0\n",
       "1       22406          1  22406.png   fibroblast         0            0\n",
       "2       22407          1  22407.png   fibroblast         0            0\n",
       "3       22408          1  22408.png   fibroblast         0            0\n",
       "4       22409          1  22409.png   fibroblast         0            0"
      ]
     },
     "execution_count": 2,
     "metadata": {},
     "output_type": "execute_result"
    }
   ],
   "source": [
    "# read the training dataset\n",
    "train = pd.read_csv('data_labels_mainData.csv')\n",
    "\n",
    "# display the first 5 rows\n",
    "train.head(5)"
   ]
  },
  {
   "cell_type": "markdown",
   "metadata": {},
   "source": [
    "# Data Distribution Visualization "
   ]
  },
  {
   "cell_type": "code",
   "execution_count": 3,
   "metadata": {},
   "outputs": [
    {
     "data": {
      "text/plain": [
       "Text(0.5, 1.0, 'isCancerous')"
      ]
     },
     "execution_count": 3,
     "metadata": {},
     "output_type": "execute_result"
    },
    {
     "data": {
      "image/png": "[encoded data removed]",
      "text/plain": [
       "<Figure size 2160x1440 with 1 Axes>"
      ]
     },
     "metadata": {
      "needs_background": "light"
     },
     "output_type": "display_data"
    }
   ],
   "source": [
    "# Plot the datagram represent the number of data of cancerous and non-cancerous \n",
    "fig = plt.figure(figsize=(30,20))\n",
    "ax1=fig.add_subplot(221)\n",
    "train['isCancerous'].value_counts().plot(kind='bar', ax=ax1)\n",
    "ax1.set_ylabel('count')\n",
    "ax1.set_title('isCancerous')"
   ]
  },
  {
   "cell_type": "code",
   "execution_count": 4,
   "metadata": {},
   "outputs": [
    {
     "data": {
      "text/plain": [
       "0    5817\n",
       "1    4079\n",
       "Name: isCancerous, dtype: int64"
      ]
     },
     "execution_count": 4,
     "metadata": {},
     "output_type": "execute_result"
    }
   ],
   "source": [
    "# count value of 2 classes\n",
    "train.isCancerous.value_counts()"
   ]
  },
  {
   "cell_type": "markdown",
   "metadata": {},
   "source": [
    "# Data Preparation and Processing"
   ]
  },
  {
   "cell_type": "code",
   "execution_count": 5,
   "metadata": {},
   "outputs": [],
   "source": [
    "# define new dataframe to store data of each class\n",
    "train_0 = train[train['isCancerous'] == 0]\n",
    "train_1 = train[train['isCancerous'] == 1]"
   ]
  },
  {
   "cell_type": "code",
   "execution_count": 6,
   "metadata": {},
   "outputs": [],
   "source": [
    "# set the number of data of class 1 = number of data of class 0 (balance data)\n",
    "train_1_balanced = resample(train_1, replace=True, n_samples = len(train_0), random_state = 42)"
   ]
  },
  {
   "cell_type": "code",
   "execution_count": 7,
   "metadata": {},
   "outputs": [],
   "source": [
    "# combine back to a single dataframe\n",
    "train_balanced = pd.concat([train_0,train_1_balanced])"
   ]
  },
  {
   "cell_type": "code",
   "execution_count": 8,
   "metadata": {},
   "outputs": [
    {
     "name": "stdout",
     "output_type": "stream",
     "text": [
      "1    5817\n",
      "0    5817\n",
      "Name: isCancerous, dtype: int64\n"
     ]
    }
   ],
   "source": [
    "# check the distribution: 2 classes should be balanced \n",
    "print(train_balanced['isCancerous'].value_counts())"
   ]
  },
  {
   "cell_type": "code",
   "execution_count": 9,
   "metadata": {},
   "outputs": [
    {
     "data": {
      "text/plain": [
       "(11634, 6)"
      ]
     },
     "execution_count": 9,
     "metadata": {},
     "output_type": "execute_result"
    }
   ],
   "source": [
    "# shape of dataframe\n",
    "train_balanced.shape"
   ]
  },
  {
   "cell_type": "code",
   "execution_count": 10,
   "metadata": {},
   "outputs": [
    {
     "data": {
      "text/html": [
       "<div>\n",
       "<style scoped>\n",
       "    .dataframe tbody tr th:only-of-type {\n",
       "        vertical-align: middle;\n",
       "    }\n",
       "\n",
       "    .dataframe tbody tr th {\n",
       "        vertical-align: top;\n",
       "    }\n",
       "\n",
       "    .dataframe thead th {\n",
       "        text-align: right;\n",
       "    }\n",
       "</style>\n",
       "<table border=\"1\" class=\"dataframe\">\n",
       "  <thead>\n",
       "    <tr style=\"text-align: right;\">\n",
       "      <th></th>\n",
       "      <th>InstanceID</th>\n",
       "      <th>patientID</th>\n",
       "      <th>ImageName</th>\n",
       "      <th>cellTypeName</th>\n",
       "      <th>cellType</th>\n",
       "      <th>isCancerous</th>\n",
       "    </tr>\n",
       "  </thead>\n",
       "  <tbody>\n",
       "    <tr>\n",
       "      <th>0</th>\n",
       "      <td>22405</td>\n",
       "      <td>1</td>\n",
       "      <td>22405.png</td>\n",
       "      <td>fibroblast</td>\n",
       "      <td>0</td>\n",
       "      <td>0</td>\n",
       "    </tr>\n",
       "    <tr>\n",
       "      <th>1</th>\n",
       "      <td>22406</td>\n",
       "      <td>1</td>\n",
       "      <td>22406.png</td>\n",
       "      <td>fibroblast</td>\n",
       "      <td>0</td>\n",
       "      <td>0</td>\n",
       "    </tr>\n",
       "    <tr>\n",
       "      <th>2</th>\n",
       "      <td>22407</td>\n",
       "      <td>1</td>\n",
       "      <td>22407.png</td>\n",
       "      <td>fibroblast</td>\n",
       "      <td>0</td>\n",
       "      <td>0</td>\n",
       "    </tr>\n",
       "    <tr>\n",
       "      <th>3</th>\n",
       "      <td>22408</td>\n",
       "      <td>1</td>\n",
       "      <td>22408.png</td>\n",
       "      <td>fibroblast</td>\n",
       "      <td>0</td>\n",
       "      <td>0</td>\n",
       "    </tr>\n",
       "    <tr>\n",
       "      <th>4</th>\n",
       "      <td>22409</td>\n",
       "      <td>1</td>\n",
       "      <td>22409.png</td>\n",
       "      <td>fibroblast</td>\n",
       "      <td>0</td>\n",
       "      <td>0</td>\n",
       "    </tr>\n",
       "  </tbody>\n",
       "</table>\n",
       "</div>"
      ],
      "text/plain": [
       "   InstanceID  patientID  ImageName cellTypeName  cellType  isCancerous\n",
       "0       22405          1  22405.png   fibroblast         0            0\n",
       "1       22406          1  22406.png   fibroblast         0            0\n",
       "2       22407          1  22407.png   fibroblast         0            0\n",
       "3       22408          1  22408.png   fibroblast         0            0\n",
       "4       22409          1  22409.png   fibroblast         0            0"
      ]
     },
     "execution_count": 10,
     "metadata": {},
     "output_type": "execute_result"
    }
   ],
   "source": [
    "# display the first 5 rows of the new dataframe\n",
    "train_balanced.head()"
   ]
  },
  {
   "cell_type": "code",
   "execution_count": 11,
   "metadata": {},
   "outputs": [],
   "source": [
    "# drop unused columns\n",
    "train_balanced = train_balanced.drop(['InstanceID', 'patientID',\"cellTypeName\",\"cellType\"], axis = 1)"
   ]
  },
  {
   "cell_type": "code",
   "execution_count": 12,
   "metadata": {},
   "outputs": [
    {
     "data": {
      "text/html": [
       "<div>\n",
       "<style scoped>\n",
       "    .dataframe tbody tr th:only-of-type {\n",
       "        vertical-align: middle;\n",
       "    }\n",
       "\n",
       "    .dataframe tbody tr th {\n",
       "        vertical-align: top;\n",
       "    }\n",
       "\n",
       "    .dataframe thead th {\n",
       "        text-align: right;\n",
       "    }\n",
       "</style>\n",
       "<table border=\"1\" class=\"dataframe\">\n",
       "  <thead>\n",
       "    <tr style=\"text-align: right;\">\n",
       "      <th></th>\n",
       "      <th>ImageName</th>\n",
       "      <th>isCancerous</th>\n",
       "    </tr>\n",
       "  </thead>\n",
       "  <tbody>\n",
       "    <tr>\n",
       "      <th>0</th>\n",
       "      <td>22405.png</td>\n",
       "      <td>0</td>\n",
       "    </tr>\n",
       "    <tr>\n",
       "      <th>1</th>\n",
       "      <td>22406.png</td>\n",
       "      <td>0</td>\n",
       "    </tr>\n",
       "    <tr>\n",
       "      <th>2</th>\n",
       "      <td>22407.png</td>\n",
       "      <td>0</td>\n",
       "    </tr>\n",
       "    <tr>\n",
       "      <th>3</th>\n",
       "      <td>22408.png</td>\n",
       "      <td>0</td>\n",
       "    </tr>\n",
       "    <tr>\n",
       "      <th>4</th>\n",
       "      <td>22409.png</td>\n",
       "      <td>0</td>\n",
       "    </tr>\n",
       "  </tbody>\n",
       "</table>\n",
       "</div>"
      ],
      "text/plain": [
       "   ImageName  isCancerous\n",
       "0  22405.png            0\n",
       "1  22406.png            0\n",
       "2  22407.png            0\n",
       "3  22408.png            0\n",
       "4  22409.png            0"
      ]
     },
     "execution_count": 12,
     "metadata": {},
     "output_type": "execute_result"
    }
   ],
   "source": [
    "# dataframe after dropping column\n",
    "train_balanced.head()"
   ]
  },
  {
   "cell_type": "code",
   "execution_count": 13,
   "metadata": {},
   "outputs": [
    {
     "data": {
      "text/html": [
       "<div>\n",
       "<style scoped>\n",
       "    .dataframe tbody tr th:only-of-type {\n",
       "        vertical-align: middle;\n",
       "    }\n",
       "\n",
       "    .dataframe tbody tr th {\n",
       "        vertical-align: top;\n",
       "    }\n",
       "\n",
       "    .dataframe thead th {\n",
       "        text-align: right;\n",
       "    }\n",
       "</style>\n",
       "<table border=\"1\" class=\"dataframe\">\n",
       "  <thead>\n",
       "    <tr style=\"text-align: right;\">\n",
       "      <th></th>\n",
       "      <th>ImageName</th>\n",
       "      <th>isCancerous</th>\n",
       "      <th>path</th>\n",
       "    </tr>\n",
       "  </thead>\n",
       "  <tbody>\n",
       "    <tr>\n",
       "      <th>0</th>\n",
       "      <td>22405.png</td>\n",
       "      <td>0</td>\n",
       "      <td>patch_images/22405.png</td>\n",
       "    </tr>\n",
       "    <tr>\n",
       "      <th>1</th>\n",
       "      <td>22406.png</td>\n",
       "      <td>0</td>\n",
       "      <td>patch_images/22406.png</td>\n",
       "    </tr>\n",
       "    <tr>\n",
       "      <th>2</th>\n",
       "      <td>22407.png</td>\n",
       "      <td>0</td>\n",
       "      <td>patch_images/22407.png</td>\n",
       "    </tr>\n",
       "    <tr>\n",
       "      <th>3</th>\n",
       "      <td>22408.png</td>\n",
       "      <td>0</td>\n",
       "      <td>patch_images/22408.png</td>\n",
       "    </tr>\n",
       "    <tr>\n",
       "      <th>4</th>\n",
       "      <td>22409.png</td>\n",
       "      <td>0</td>\n",
       "      <td>patch_images/22409.png</td>\n",
       "    </tr>\n",
       "  </tbody>\n",
       "</table>\n",
       "</div>"
      ],
      "text/plain": [
       "   ImageName  isCancerous                    path\n",
       "0  22405.png            0  patch_images/22405.png\n",
       "1  22406.png            0  patch_images/22406.png\n",
       "2  22407.png            0  patch_images/22407.png\n",
       "3  22408.png            0  patch_images/22408.png\n",
       "4  22409.png            0  patch_images/22409.png"
      ]
     },
     "execution_count": 13,
     "metadata": {},
     "output_type": "execute_result"
    }
   ],
   "source": [
    "# read images based on ImageName from CSV file\n",
    "path = \"patch_images/\"\n",
    "\n",
    "# define the path and add as a new column \n",
    "train_balanced['path'] = path + train_balanced['ImageName']\n",
    "\n",
    "# check the dataframe\n",
    "train_balanced.head()"
   ]
  },
  {
   "cell_type": "code",
   "execution_count": 14,
   "metadata": {},
   "outputs": [],
   "source": [
    "# Use the path to read image and convert image into numpy array\n",
    "train_balanced['image'] = train_balanced['path'].map(lambda x: np.asarray(Image.open(x).resize((SIZE,SIZE))))"
   ]
  },
  {
   "cell_type": "code",
   "execution_count": 15,
   "metadata": {},
   "outputs": [
    {
     "data": {
      "text/html": [
       "<div>\n",
       "<style scoped>\n",
       "    .dataframe tbody tr th:only-of-type {\n",
       "        vertical-align: middle;\n",
       "    }\n",
       "\n",
       "    .dataframe tbody tr th {\n",
       "        vertical-align: top;\n",
       "    }\n",
       "\n",
       "    .dataframe thead th {\n",
       "        text-align: right;\n",
       "    }\n",
       "</style>\n",
       "<table border=\"1\" class=\"dataframe\">\n",
       "  <thead>\n",
       "    <tr style=\"text-align: right;\">\n",
       "      <th></th>\n",
       "      <th>ImageName</th>\n",
       "      <th>isCancerous</th>\n",
       "      <th>path</th>\n",
       "      <th>image</th>\n",
       "    </tr>\n",
       "  </thead>\n",
       "  <tbody>\n",
       "    <tr>\n",
       "      <th>0</th>\n",
       "      <td>22405.png</td>\n",
       "      <td>0</td>\n",
       "      <td>patch_images/22405.png</td>\n",
       "      <td>[[[242, 213, 237], [240, 210, 234], [236, 206,...</td>\n",
       "    </tr>\n",
       "  </tbody>\n",
       "</table>\n",
       "</div>"
      ],
      "text/plain": [
       "   ImageName  isCancerous                    path  \\\n",
       "0  22405.png            0  patch_images/22405.png   \n",
       "\n",
       "                                               image  \n",
       "0  [[[242, 213, 237], [240, 210, 234], [236, 206,...  "
      ]
     },
     "execution_count": 15,
     "metadata": {},
     "output_type": "execute_result"
    }
   ],
   "source": [
    "# check dataframe\n",
    "train_balanced.head(1)"
   ]
  },
  {
   "cell_type": "code",
   "execution_count": 45,
   "metadata": {},
   "outputs": [
    {
     "data": {
      "image/png": "[encoded data removed]",
      "text/plain": [
       "<Figure size 1080x1080 with 10 Axes>"
      ]
     },
     "metadata": {},
     "output_type": "display_data"
    }
   ],
   "source": [
    "# Plotting some images of each class\n",
    "fig, m_axs = plt.subplots(2, 5, figsize = (15, 15))\n",
    "for n_axs, (type_name, type_rows) in zip(m_axs, train_balanced.sort_values(['isCancerous']).groupby('isCancerous')):\n",
    "    n_axs[0].set_title(type_name)\n",
    "    for c_ax, (_, c_row) in zip(n_axs, type_rows.sample(5, random_state=42).iterrows()):\n",
    "        c_ax.imshow(c_row['image'])\n",
    "        c_ax.axis('off')"
   ]
  },
  {
   "cell_type": "markdown",
   "metadata": {},
   "source": [
    "# Extract Training Data using Train_Split_Test"
   ]
  },
  {
   "cell_type": "code",
   "execution_count": 16,
   "metadata": {},
   "outputs": [],
   "source": [
    "# X is value of images numpy array\n",
    "X = np.asarray(train_balanced['image'].tolist())\n",
    "\n",
    "# Scale values to 0:1\n",
    "X = X/255."
   ]
  },
  {
   "cell_type": "code",
   "execution_count": 17,
   "metadata": {},
   "outputs": [
    {
     "data": {
      "text/plain": [
       "(11634, 32, 32, 3)"
      ]
     },
     "execution_count": 17,
     "metadata": {},
     "output_type": "execute_result"
    }
   ],
   "source": [
    "# check the shape of X\n",
    "X.shape"
   ]
  },
  {
   "cell_type": "code",
   "execution_count": 18,
   "metadata": {},
   "outputs": [],
   "source": [
    "# Assign the label values to Y\n",
    "Y = train_balanced['isCancerous']"
   ]
  },
  {
   "cell_type": "code",
   "execution_count": 47,
   "metadata": {},
   "outputs": [
    {
     "name": "stdout",
     "output_type": "stream",
     "text": [
      "[[1. 0.]\n",
      " [1. 0.]\n",
      " [1. 0.]\n",
      " ...\n",
      " [0. 1.]\n",
      " [0. 1.]\n",
      " [0. 1.]]\n"
     ]
    }
   ],
   "source": [
    "# Convert the Y into 2 classes \n",
    "Y_cat = to_categorical(Y, num_classes = 2)\n",
    "\n",
    "print(Y_cat)"
   ]
  },
  {
   "cell_type": "code",
   "execution_count": 20,
   "metadata": {},
   "outputs": [],
   "source": [
    "# Split data 80% training, 20% testing\n",
    "x_train, x_test, y_train, y_test = train_test_split(X, Y_cat, test_size=0.2, random_state=42)"
   ]
  },
  {
   "cell_type": "code",
   "execution_count": 21,
   "metadata": {},
   "outputs": [
    {
     "name": "stdout",
     "output_type": "stream",
     "text": [
      "X_train shape (9307, 32, 32, 3)\n",
      "y_train shape (9307, 2)\n",
      "X_test shape (2327, 32, 32, 3)\n",
      "y_train shape (2327, 2)\n"
     ]
    }
   ],
   "source": [
    "print(\"X_train shape\", x_train.shape)\n",
    "print(\"y_train shape\", y_train.shape)\n",
    "print(\"X_test shape\", x_test.shape)\n",
    "print(\"y_train shape\", y_test.shape)"
   ]
  },
  {
   "cell_type": "markdown",
   "metadata": {},
   "source": [
    "# Build CNN Model and Training model"
   ]
  },
  {
   "cell_type": "code",
   "execution_count": 22,
   "metadata": {
    "scrolled": true
   },
   "outputs": [
    {
     "name": "stdout",
     "output_type": "stream",
     "text": [
      "Model: \"sequential\"\n",
      "_________________________________________________________________\n",
      "Layer (type)                 Output Shape              Param #   \n",
      "=================================================================\n",
      "conv2d (Conv2D)              (None, 32, 32, 32)        896       \n",
      "_________________________________________________________________\n",
      "conv2d_1 (Conv2D)            (None, 32, 32, 32)        9248      \n",
      "_________________________________________________________________\n",
      "max_pooling2d (MaxPooling2D) (None, 16, 16, 32)        0         \n",
      "_________________________________________________________________\n",
      "dropout (Dropout)            (None, 16, 16, 32)        0         \n",
      "_________________________________________________________________\n",
      "conv2d_2 (Conv2D)            (None, 16, 16, 64)        18496     \n",
      "_________________________________________________________________\n",
      "conv2d_3 (Conv2D)            (None, 16, 16, 64)        36928     \n",
      "_________________________________________________________________\n",
      "max_pooling2d_1 (MaxPooling2 (None, 8, 8, 64)          0         \n",
      "_________________________________________________________________\n",
      "dropout_1 (Dropout)          (None, 8, 8, 64)          0         \n",
      "_________________________________________________________________\n",
      "conv2d_4 (Conv2D)            (None, 8, 8, 128)         73856     \n",
      "_________________________________________________________________\n",
      "conv2d_5 (Conv2D)            (None, 8, 8, 128)         147584    \n",
      "_________________________________________________________________\n",
      "max_pooling2d_2 (MaxPooling2 (None, 4, 4, 128)         0         \n",
      "_________________________________________________________________\n",
      "dropout_2 (Dropout)          (None, 4, 4, 128)         0         \n",
      "_________________________________________________________________\n",
      "flatten (Flatten)            (None, 2048)              0         \n",
      "_________________________________________________________________\n",
      "dense (Dense)                (None, 512)               1049088   \n",
      "_________________________________________________________________\n",
      "dropout_3 (Dropout)          (None, 512)               0         \n",
      "_________________________________________________________________\n",
      "dense_1 (Dense)              (None, 128)               65664     \n",
      "_________________________________________________________________\n",
      "dropout_4 (Dropout)          (None, 128)               0         \n",
      "_________________________________________________________________\n",
      "dense_2 (Dense)              (None, 2)                 258       \n",
      "=================================================================\n",
      "Total params: 1,402,018\n",
      "Trainable params: 1,402,018\n",
      "Non-trainable params: 0\n",
      "_________________________________________________________________\n"
     ]
    }
   ],
   "source": [
    "# Define Model \n",
    "model = Sequential()\n",
    "\n",
    "# Data input_shape\n",
    "# Convolution Layer\n",
    "model.add(Conv2D(32, (3,3), activation=\"relu\", padding ='same',input_shape=(SIZE,SIZE,3)))\n",
    "model.add(Conv2D(32, (3,3), activation=\"relu\", padding = 'same'))\n",
    "# Max Pooling \n",
    "model.add(MaxPool2D(pool_size=(2,2)))\n",
    "# Dropout method\n",
    "model.add(Dropout(0.2))\n",
    "\n",
    "model.add(Conv2D(64,(3,3), activation=\"relu\", padding ='same'))\n",
    "model.add(Conv2D(64,(3,3), activation=\"relu\", padding ='same'))\n",
    "model.add(MaxPool2D(pool_size=(2,2)))\n",
    "model.add(Dropout(0.3))\n",
    "\n",
    "model.add(Conv2D(128, (3,3), activation=\"relu\", padding ='same'))\n",
    "model.add(Conv2D(128, (3,3), activation=\"relu\", padding ='same'))\n",
    "model.add(MaxPool2D(pool_size=(2,2)))\n",
    "model.add(Dropout(0.5))\n",
    "\n",
    "# Flattening\n",
    "model.add(Flatten())\n",
    "\n",
    "# Hiden layer\n",
    "model.add(Dense(512, activation = \"relu\"))\n",
    "model.add(Dropout(0.5))\n",
    "model.add(Dense(128, activation = \"relu\"))\n",
    "model.add(Dropout(0.5))\n",
    "\n",
    "# Ouput Layer with activation sigmoid, which good for binary classification\n",
    "model.add(Dense(2, activation='sigmoid'))\n",
    "\n",
    "# Summary of model \n",
    "model.summary()\n",
    "\n",
    "# Model Compile\n",
    "model.compile(loss='binary_crossentropy', optimizer='Adam', metrics=['acc'])"
   ]
  },
  {
   "cell_type": "code",
   "execution_count": 23,
   "metadata": {
    "scrolled": true
   },
   "outputs": [
    {
     "name": "stdout",
     "output_type": "stream",
     "text": [
      "Epoch 1/100\n",
      "101/101 - 43s - loss: 0.6895 - acc: 0.5284 - val_loss: 0.6937 - val_acc: 0.4856\n",
      "Epoch 2/100\n",
      "101/101 - 36s - loss: 0.6837 - acc: 0.5228 - val_loss: 0.6242 - val_acc: 0.7439\n",
      "Epoch 3/100\n",
      "101/101 - 36s - loss: 0.4950 - acc: 0.7795 - val_loss: 0.4333 - val_acc: 0.7765\n",
      "Epoch 4/100\n",
      "101/101 - 36s - loss: 0.3940 - acc: 0.8308 - val_loss: 0.2990 - val_acc: 0.8814\n",
      "Epoch 5/100\n",
      "101/101 - 36s - loss: 0.3442 - acc: 0.8544 - val_loss: 0.4148 - val_acc: 0.8225\n",
      "Epoch 6/100\n",
      "101/101 - 36s - loss: 0.3329 - acc: 0.8662 - val_loss: 0.2715 - val_acc: 0.8951\n",
      "Epoch 7/100\n",
      "101/101 - 36s - loss: 0.3113 - acc: 0.8729 - val_loss: 0.2517 - val_acc: 0.9059\n",
      "Epoch 8/100\n",
      "101/101 - 36s - loss: 0.2987 - acc: 0.8827 - val_loss: 0.4462 - val_acc: 0.7851\n",
      "Epoch 9/100\n",
      "101/101 - 37s - loss: 0.2956 - acc: 0.8788 - val_loss: 0.2574 - val_acc: 0.9020\n",
      "Epoch 10/100\n",
      "101/101 - 37s - loss: 0.2804 - acc: 0.8915 - val_loss: 0.4374 - val_acc: 0.7869\n",
      "Epoch 11/100\n",
      "101/101 - 36s - loss: 0.2959 - acc: 0.8834 - val_loss: 0.2233 - val_acc: 0.9183\n",
      "Epoch 12/100\n",
      "101/101 - 36s - loss: 0.2918 - acc: 0.8818 - val_loss: 0.2279 - val_acc: 0.9235\n",
      "Epoch 13/100\n",
      "101/101 - 37s - loss: 0.2731 - acc: 0.8917 - val_loss: 0.2308 - val_acc: 0.9153\n",
      "Epoch 14/100\n",
      "101/101 - 36s - loss: 0.2617 - acc: 0.8963 - val_loss: 0.2129 - val_acc: 0.9192\n",
      "Epoch 15/100\n",
      "101/101 - 36s - loss: 0.2645 - acc: 0.8915 - val_loss: 0.2261 - val_acc: 0.9214\n",
      "Epoch 16/100\n",
      "101/101 - 36s - loss: 0.2708 - acc: 0.8916 - val_loss: 0.2367 - val_acc: 0.9067\n",
      "Epoch 17/100\n",
      "101/101 - 36s - loss: 0.2470 - acc: 0.9059 - val_loss: 0.2825 - val_acc: 0.8638\n",
      "Epoch 18/100\n",
      "101/101 - 36s - loss: 0.2406 - acc: 0.9060 - val_loss: 0.4127 - val_acc: 0.8217\n",
      "Epoch 19/100\n",
      "101/101 - 36s - loss: 0.2316 - acc: 0.9079 - val_loss: 0.2103 - val_acc: 0.9158\n",
      "Epoch 20/100\n",
      "101/101 - 27s - loss: 0.2453 - acc: 0.9032 - val_loss: 0.2183 - val_acc: 0.9252\n",
      "Epoch 21/100\n",
      "101/101 - 18s - loss: 0.2398 - acc: 0.9065 - val_loss: 0.2053 - val_acc: 0.9244\n",
      "Epoch 22/100\n",
      "101/101 - 18s - loss: 0.2209 - acc: 0.9123 - val_loss: 0.2851 - val_acc: 0.8689\n",
      "Epoch 23/100\n",
      "101/101 - 18s - loss: 0.2318 - acc: 0.9103 - val_loss: 0.1956 - val_acc: 0.9287\n",
      "Epoch 24/100\n",
      "101/101 - 18s - loss: 0.2148 - acc: 0.9145 - val_loss: 0.1935 - val_acc: 0.9312\n",
      "Epoch 25/100\n",
      "101/101 - 18s - loss: 0.2095 - acc: 0.9191 - val_loss: 0.2058 - val_acc: 0.9269\n",
      "Epoch 26/100\n",
      "101/101 - 18s - loss: 0.2188 - acc: 0.9142 - val_loss: 0.2455 - val_acc: 0.9016\n",
      "Epoch 27/100\n",
      "101/101 - 18s - loss: 0.2473 - acc: 0.8991 - val_loss: 0.2568 - val_acc: 0.8921\n",
      "Epoch 28/100\n",
      "101/101 - 18s - loss: 0.2137 - acc: 0.9187 - val_loss: 0.1914 - val_acc: 0.9252\n",
      "Epoch 29/100\n",
      "101/101 - 18s - loss: 0.2097 - acc: 0.9168 - val_loss: 0.2504 - val_acc: 0.8883\n",
      "Epoch 30/100\n",
      "101/101 - 18s - loss: 0.2037 - acc: 0.9233 - val_loss: 0.2282 - val_acc: 0.9093\n",
      "Epoch 31/100\n",
      "101/101 - 19s - loss: 0.2023 - acc: 0.9233 - val_loss: 0.2375 - val_acc: 0.9003\n",
      "Epoch 32/100\n",
      "101/101 - 19s - loss: 0.1858 - acc: 0.9279 - val_loss: 0.1854 - val_acc: 0.9282\n",
      "Epoch 33/100\n",
      "101/101 - 18s - loss: 0.1916 - acc: 0.9262 - val_loss: 0.2110 - val_acc: 0.9265\n",
      "Epoch 34/100\n",
      "101/101 - 18s - loss: 0.1887 - acc: 0.9291 - val_loss: 0.1981 - val_acc: 0.9287\n",
      "Epoch 35/100\n",
      "101/101 - 18s - loss: 0.2059 - acc: 0.9217 - val_loss: 0.1935 - val_acc: 0.9244\n",
      "Epoch 36/100\n",
      "101/101 - 18s - loss: 0.1775 - acc: 0.9345 - val_loss: 0.1932 - val_acc: 0.9312\n",
      "Epoch 37/100\n",
      "101/101 - 18s - loss: 0.2025 - acc: 0.9231 - val_loss: 0.1713 - val_acc: 0.9325\n",
      "Epoch 38/100\n",
      "101/101 - 18s - loss: 0.1769 - acc: 0.9301 - val_loss: 0.2555 - val_acc: 0.8891\n",
      "Epoch 39/100\n",
      "101/101 - 18s - loss: 0.1914 - acc: 0.9284 - val_loss: 0.2210 - val_acc: 0.9123\n",
      "Epoch 40/100\n",
      "101/101 - 18s - loss: 0.1709 - acc: 0.9347 - val_loss: 0.1785 - val_acc: 0.9377\n",
      "Epoch 41/100\n",
      "101/101 - 18s - loss: 0.1745 - acc: 0.9306 - val_loss: 0.2076 - val_acc: 0.9347\n",
      "Epoch 42/100\n",
      "101/101 - 18s - loss: 0.1767 - acc: 0.9319 - val_loss: 0.2117 - val_acc: 0.9162\n",
      "Epoch 43/100\n",
      "101/101 - 18s - loss: 0.1852 - acc: 0.9303 - val_loss: 0.1980 - val_acc: 0.9244\n",
      "Epoch 44/100\n",
      "101/101 - 18s - loss: 0.1552 - acc: 0.9417 - val_loss: 0.2221 - val_acc: 0.9201\n",
      "Epoch 45/100\n",
      "101/101 - 18s - loss: 0.1869 - acc: 0.9324 - val_loss: 0.1644 - val_acc: 0.9437\n",
      "Epoch 46/100\n",
      "101/101 - 18s - loss: 0.1624 - acc: 0.9393 - val_loss: 0.1652 - val_acc: 0.9471\n",
      "Epoch 47/100\n",
      "101/101 - 18s - loss: 0.1510 - acc: 0.9448 - val_loss: 0.1933 - val_acc: 0.9364\n",
      "Epoch 48/100\n",
      "101/101 - 18s - loss: 0.1832 - acc: 0.9292 - val_loss: 0.1668 - val_acc: 0.9368\n",
      "Epoch 49/100\n",
      "101/101 - 18s - loss: 0.1533 - acc: 0.9418 - val_loss: 0.2525 - val_acc: 0.9059\n",
      "Epoch 50/100\n",
      "101/101 - 18s - loss: 0.1490 - acc: 0.9429 - val_loss: 0.1640 - val_acc: 0.9368\n",
      "Epoch 51/100\n",
      "101/101 - 18s - loss: 0.1586 - acc: 0.9380 - val_loss: 0.1622 - val_acc: 0.9411\n",
      "Epoch 52/100\n",
      "101/101 - 18s - loss: 0.1384 - acc: 0.9486 - val_loss: 0.1563 - val_acc: 0.9437\n",
      "Epoch 53/100\n",
      "101/101 - 18s - loss: 0.1415 - acc: 0.9452 - val_loss: 0.1533 - val_acc: 0.9476\n",
      "Epoch 54/100\n",
      "101/101 - 18s - loss: 0.1531 - acc: 0.9432 - val_loss: 0.1661 - val_acc: 0.9343\n",
      "Epoch 55/100\n",
      "101/101 - 18s - loss: 0.1346 - acc: 0.9480 - val_loss: 0.1571 - val_acc: 0.9441\n",
      "Epoch 56/100\n",
      "101/101 - 18s - loss: 0.1351 - acc: 0.9522 - val_loss: 0.2404 - val_acc: 0.9098\n",
      "Epoch 57/100\n",
      "101/101 - 18s - loss: 0.1468 - acc: 0.9436 - val_loss: 0.1538 - val_acc: 0.9459\n",
      "Epoch 58/100\n",
      "101/101 - 18s - loss: 0.1420 - acc: 0.9450 - val_loss: 0.1785 - val_acc: 0.9287\n",
      "Epoch 59/100\n",
      "101/101 - 18s - loss: 0.1218 - acc: 0.9534 - val_loss: 0.1528 - val_acc: 0.9497\n",
      "Epoch 60/100\n",
      "101/101 - 18s - loss: 0.1222 - acc: 0.9527 - val_loss: 0.1634 - val_acc: 0.9416\n",
      "Epoch 61/100\n",
      "101/101 - 18s - loss: 0.1163 - acc: 0.9591 - val_loss: 0.1645 - val_acc: 0.9403\n",
      "Epoch 62/100\n",
      "101/101 - 18s - loss: 0.1324 - acc: 0.9520 - val_loss: 0.1462 - val_acc: 0.9510\n",
      "Epoch 63/100\n",
      "101/101 - 19s - loss: 0.1319 - acc: 0.9527 - val_loss: 0.2236 - val_acc: 0.9183\n",
      "Epoch 64/100\n",
      "101/101 - 19s - loss: 0.1277 - acc: 0.9518 - val_loss: 0.1756 - val_acc: 0.9476\n",
      "Epoch 65/100\n",
      "101/101 - 19s - loss: 0.1267 - acc: 0.9541 - val_loss: 0.1583 - val_acc: 0.9420\n",
      "Epoch 66/100\n",
      "101/101 - 18s - loss: 0.1140 - acc: 0.9592 - val_loss: 0.1762 - val_acc: 0.9463\n",
      "Epoch 67/100\n",
      "101/101 - 18s - loss: 0.1232 - acc: 0.9523 - val_loss: 0.1764 - val_acc: 0.9407\n",
      "Epoch 68/100\n",
      "101/101 - 18s - loss: 0.1113 - acc: 0.9609 - val_loss: 0.1594 - val_acc: 0.9463\n",
      "Epoch 69/100\n",
      "101/101 - 18s - loss: 0.1037 - acc: 0.9597 - val_loss: 0.1659 - val_acc: 0.9459\n",
      "Epoch 70/100\n",
      "101/101 - 18s - loss: 0.1252 - acc: 0.9527 - val_loss: 0.1545 - val_acc: 0.9471\n",
      "Epoch 71/100\n",
      "101/101 - 18s - loss: 0.1132 - acc: 0.9563 - val_loss: 0.1753 - val_acc: 0.9403\n",
      "Epoch 72/100\n",
      "101/101 - 18s - loss: 0.0994 - acc: 0.9637 - val_loss: 0.1993 - val_acc: 0.9334\n",
      "Epoch 73/100\n",
      "101/101 - 18s - loss: 0.1139 - acc: 0.9572 - val_loss: 0.1560 - val_acc: 0.9480\n",
      "Epoch 74/100\n",
      "101/101 - 18s - loss: 0.1051 - acc: 0.9606 - val_loss: 0.1542 - val_acc: 0.9523\n",
      "Epoch 75/100\n",
      "101/101 - 18s - loss: 0.0984 - acc: 0.9666 - val_loss: 0.1578 - val_acc: 0.9532\n",
      "Epoch 76/100\n",
      "101/101 - 18s - loss: 0.0951 - acc: 0.9642 - val_loss: 0.2685 - val_acc: 0.9128\n",
      "Epoch 77/100\n",
      "101/101 - 18s - loss: 0.1152 - acc: 0.9565 - val_loss: 0.1566 - val_acc: 0.9471\n",
      "Epoch 78/100\n",
      "101/101 - 18s - loss: 0.0929 - acc: 0.9665 - val_loss: 0.1522 - val_acc: 0.9467\n",
      "Epoch 79/100\n",
      "101/101 - 18s - loss: 0.1006 - acc: 0.9634 - val_loss: 0.1434 - val_acc: 0.9527\n",
      "Epoch 80/100\n",
      "101/101 - 18s - loss: 0.1200 - acc: 0.9569 - val_loss: 0.1707 - val_acc: 0.9433\n",
      "Epoch 81/100\n",
      "101/101 - 18s - loss: 0.0873 - acc: 0.9680 - val_loss: 0.2159 - val_acc: 0.9235\n",
      "Epoch 82/100\n",
      "101/101 - 18s - loss: 0.0825 - acc: 0.9707 - val_loss: 0.1695 - val_acc: 0.9544\n",
      "Epoch 83/100\n",
      "101/101 - 18s - loss: 0.0901 - acc: 0.9667 - val_loss: 0.1553 - val_acc: 0.9540\n",
      "Epoch 84/100\n",
      "101/101 - 18s - loss: 0.0921 - acc: 0.9668 - val_loss: 0.1315 - val_acc: 0.9557\n",
      "Epoch 85/100\n",
      "101/101 - 18s - loss: 0.1282 - acc: 0.9527 - val_loss: 0.1437 - val_acc: 0.9497\n",
      "Epoch 86/100\n",
      "101/101 - 18s - loss: 0.0866 - acc: 0.9692 - val_loss: 0.1684 - val_acc: 0.9480\n",
      "Epoch 87/100\n",
      "101/101 - 18s - loss: 0.0916 - acc: 0.9660 - val_loss: 0.2375 - val_acc: 0.9248\n",
      "Epoch 88/100\n",
      "101/101 - 18s - loss: 0.1326 - acc: 0.9509 - val_loss: 0.1750 - val_acc: 0.9446\n",
      "Epoch 89/100\n",
      "101/101 - 18s - loss: 0.0884 - acc: 0.9674 - val_loss: 0.1748 - val_acc: 0.9480\n"
     ]
    },
    {
     "name": "stdout",
     "output_type": "stream",
     "text": [
      "Epoch 90/100\n",
      "101/101 - 18s - loss: 0.0789 - acc: 0.9698 - val_loss: 0.1899 - val_acc: 0.9437\n",
      "Epoch 91/100\n",
      "101/101 - 18s - loss: 0.0885 - acc: 0.9681 - val_loss: 0.2008 - val_acc: 0.9424\n",
      "Epoch 92/100\n",
      "101/101 - 18s - loss: 0.0796 - acc: 0.9665 - val_loss: 0.1994 - val_acc: 0.9519\n",
      "Epoch 93/100\n",
      "101/101 - 18s - loss: 0.0906 - acc: 0.9685 - val_loss: 0.1558 - val_acc: 0.9502\n",
      "Epoch 94/100\n",
      "101/101 - 18s - loss: 0.0853 - acc: 0.9709 - val_loss: 0.1560 - val_acc: 0.9553\n",
      "Epoch 95/100\n",
      "101/101 - 18s - loss: 0.0802 - acc: 0.9705 - val_loss: 0.1664 - val_acc: 0.9510\n",
      "Epoch 96/100\n",
      "101/101 - 19s - loss: 0.0660 - acc: 0.9748 - val_loss: 0.1760 - val_acc: 0.9596\n",
      "Epoch 97/100\n",
      "101/101 - 19s - loss: 0.0752 - acc: 0.9738 - val_loss: 0.1542 - val_acc: 0.9557\n",
      "Epoch 98/100\n",
      "101/101 - 19s - loss: 0.0700 - acc: 0.9736 - val_loss: 0.1965 - val_acc: 0.9351\n",
      "Epoch 99/100\n",
      "101/101 - 18s - loss: 0.0654 - acc: 0.9751 - val_loss: 0.1618 - val_acc: 0.9575\n",
      "Epoch 100/100\n",
      "101/101 - 18s - loss: 0.0749 - acc: 0.9722 - val_loss: 0.1772 - val_acc: 0.9484\n"
     ]
    }
   ],
   "source": [
    "# Training model \n",
    "batch_size = int(len(x_train)/100)\n",
    "epochs = 100\n",
    "\n",
    "# stop = EarlyStopping(monitor=\"val_loss\", min_delta=0, patience=10, verbose=0, mode=\"auto\", baseline=None, restore_best_weights=False)\n",
    "# checkpoint = ModelCheckpoint(filepath ='best_model.h5',monitor='val_loss', save_best_only=True)\n",
    "history = model.fit(\n",
    "    x_train, y_train,\n",
    "    epochs=epochs,\n",
    "    batch_size = batch_size,\n",
    "    validation_data=(x_test, y_test),\n",
    "    verbose=2\n",
    ")"
   ]
  },
  {
   "cell_type": "code",
   "execution_count": 24,
   "metadata": {
    "scrolled": true
   },
   "outputs": [
    {
     "name": "stdout",
     "output_type": "stream",
     "text": [
      "73/73 [==============================] - 1s 11ms/step - loss: 0.1772 - acc: 0.9484\n",
      "Test accuracy: 0.9484314322471619\n",
      "Error rate: 0.17720353603363037\n"
     ]
    }
   ],
   "source": [
    "# Model Evaluating \n",
    "score = model.evaluate(x_test, y_test)\n",
    "print('Test accuracy:', score[1])\n",
    "print('Error rate:', score[0])"
   ]
  },
  {
   "cell_type": "code",
   "execution_count": 25,
   "metadata": {},
   "outputs": [
    {
     "data": {
      "image/png": "[encoded data removed]",
      "text/plain": [
       "<Figure size 432x288 with 1 Axes>"
      ]
     },
     "metadata": {
      "needs_background": "light"
     },
     "output_type": "display_data"
    }
   ],
   "source": [
    "#plot the training and validation loss at each epoch\n",
    "loss = history.history['loss']\n",
    "val_loss = history.history['val_loss']\n",
    "epochs = range(1, len(loss) + 1)\n",
    "plt.plot(epochs, loss, 'y', label='Training loss')\n",
    "plt.plot(epochs, val_loss, 'r', label='Validation loss')\n",
    "plt.title('Training and validation loss')\n",
    "plt.xlabel('Epochs')\n",
    "plt.ylabel('Loss')\n",
    "plt.legend()\n",
    "plt.show()"
   ]
  },
  {
   "cell_type": "code",
   "execution_count": 26,
   "metadata": {},
   "outputs": [
    {
     "data": {
      "image/png": "[encoded data removed]",
      "text/plain": [
       "<Figure size 432x288 with 1 Axes>"
      ]
     },
     "metadata": {
      "needs_background": "light"
     },
     "output_type": "display_data"
    }
   ],
   "source": [
    "#plot the training and validation accuracy at each epoch\n",
    "acc = history.history['acc']\n",
    "val_acc = history.history['val_acc']\n",
    "plt.plot(epochs, acc, 'y', label='Training acc')\n",
    "plt.plot(epochs, val_acc, 'r', label='Validation acc')\n",
    "plt.title('Training and validation accuracy')\n",
    "plt.xlabel('Epochs')\n",
    "plt.ylabel('Accuracy')\n",
    "plt.legend()\n",
    "plt.show()"
   ]
  },
  {
   "cell_type": "code",
   "execution_count": 27,
   "metadata": {},
   "outputs": [],
   "source": [
    "# Save Model\n",
    "model.save('Binary_CNN_Classifier.h5')"
   ]
  },
  {
   "cell_type": "code",
   "execution_count": 28,
   "metadata": {},
   "outputs": [
    {
     "name": "stdout",
     "output_type": "stream",
     "text": [
      "[1 1 0 ... 0 0 1]\n"
     ]
    }
   ],
   "source": [
    "# Predict on test data\n",
    "y_pred = model.predict(x_test)\n",
    "# Convert predictions classes to one hot vectors \n",
    "y_pred_classes = np.argmax(y_pred, axis = 1) \n",
    "# Convert test data to one hot vectors\n",
    "y_true = np.argmax(y_test, axis = 1) \n",
    "print(y_pred_classes)"
   ]
  },
  {
   "cell_type": "code",
   "execution_count": 29,
   "metadata": {},
   "outputs": [
    {
     "name": "stdout",
     "output_type": "stream",
     "text": [
      "[[1104   93]\n",
      " [  27 1103]]\n"
     ]
    }
   ],
   "source": [
    "#Print confusion matrix\n",
    "cm = confusion_matrix(y_true, y_pred_classes)\n",
    "print(cm)"
   ]
  },
  {
   "cell_type": "code",
   "execution_count": 30,
   "metadata": {},
   "outputs": [
    {
     "data": {
      "text/plain": [
       "<AxesSubplot:>"
      ]
     },
     "execution_count": 30,
     "metadata": {},
     "output_type": "execute_result"
    },
    {
     "data": {
      "image/png": "[encoded data removed]",
      "text/plain": [
       "<Figure size 1512x1512 with 2 Axes>"
      ]
     },
     "metadata": {
      "needs_background": "light"
     },
     "output_type": "display_data"
    }
   ],
   "source": [
    "# Plot the heatmap\n",
    "fig, ax = plt.subplots(figsize=(21,21))\n",
    "sns.set(font_scale=1.6)\n",
    "sns.heatmap(cm, annot=True, linewidths=.5, ax=ax)"
   ]
  },
  {
   "cell_type": "code",
   "execution_count": 31,
   "metadata": {},
   "outputs": [
    {
     "name": "stdout",
     "output_type": "stream",
     "text": [
      "              precision    recall  f1-score   support\n",
      "\n",
      "           0       0.98      0.92      0.95      1197\n",
      "           1       0.92      0.98      0.95      1130\n",
      "\n",
      "    accuracy                           0.95      2327\n",
      "   macro avg       0.95      0.95      0.95      2327\n",
      "weighted avg       0.95      0.95      0.95      2327\n",
      "\n"
     ]
    }
   ],
   "source": [
    "# print out classification report\n",
    "print(classification_report(y_true, y_pred_classes))"
   ]
  },
  {
   "cell_type": "code",
   "execution_count": 32,
   "metadata": {},
   "outputs": [
    {
     "data": {
      "text/plain": [
       "Text(0, 0.5, 'Fraction of incorrect predictions')"
      ]
     },
     "execution_count": 32,
     "metadata": {},
     "output_type": "execute_result"
    },
    {
     "data": {
      "image/png": "[encoded data removed]",
      "text/plain": [
       "<Figure size 432x288 with 1 Axes>"
      ]
     },
     "metadata": {},
     "output_type": "display_data"
    }
   ],
   "source": [
    "#PLot fractional incorrect misclassifications\n",
    "incorr_fraction = 1 - np.diag(cm) / np.sum(cm, axis=1)\n",
    "plt.bar(np.arange(2), incorr_fraction)\n",
    "plt.xlabel('True Label')\n",
    "plt.ylabel('Fraction of incorrect predictions')"
   ]
  },
  {
   "cell_type": "code",
   "execution_count": 33,
   "metadata": {},
   "outputs": [
    {
     "data": {
      "text/plain": [
       "<matplotlib.image.AxesImage at 0x1e41aa68730>"
      ]
     },
     "execution_count": 33,
     "metadata": {},
     "output_type": "execute_result"
    },
    {
     "data": {
      "image/png": "[encoded data removed]",
      "text/plain": [
       "<Figure size 432x288 with 1 Axes>"
      ]
     },
     "metadata": {},
     "output_type": "display_data"
    }
   ],
   "source": [
    "# Input index of image and predict\n",
    "n = 0\n",
    "img = X[n]\n",
    "plt.imshow(img)"
   ]
  },
  {
   "cell_type": "code",
   "execution_count": 46,
   "metadata": {},
   "outputs": [
    {
     "name": "stdout",
     "output_type": "stream",
     "text": [
      "the predict is [[0.98508453 0.01429012]]\n",
      "The class is [0]\n",
      "The actual result is: 0\n"
     ]
    }
   ],
   "source": [
    "input_img = np.expand_dims(img, axis = 0)\n",
    "y = model.predict(input_img)\n",
    "print(\"the predict is\", y)\n",
    "y_pre = np.argmax(y, axis = 1) \n",
    "print(\"The class is\",y_pre)\n",
    "print(\"The actual result is:\", Y[n])"
   ]
  },
  {
   "cell_type": "markdown",
   "metadata": {},
   "source": [
    "# Testing the prediction of model on the test dataset"
   ]
  },
  {
   "cell_type": "code",
   "execution_count": 35,
   "metadata": {},
   "outputs": [
    {
     "data": {
      "text/html": [
       "<div>\n",
       "<style scoped>\n",
       "    .dataframe tbody tr th:only-of-type {\n",
       "        vertical-align: middle;\n",
       "    }\n",
       "\n",
       "    .dataframe tbody tr th {\n",
       "        vertical-align: top;\n",
       "    }\n",
       "\n",
       "    .dataframe thead th {\n",
       "        text-align: right;\n",
       "    }\n",
       "</style>\n",
       "<table border=\"1\" class=\"dataframe\">\n",
       "  <thead>\n",
       "    <tr style=\"text-align: right;\">\n",
       "      <th></th>\n",
       "      <th>InstanceID</th>\n",
       "      <th>patientID</th>\n",
       "      <th>ImageName</th>\n",
       "      <th>isCancerous</th>\n",
       "    </tr>\n",
       "  </thead>\n",
       "  <tbody>\n",
       "    <tr>\n",
       "      <th>0</th>\n",
       "      <td>12681</td>\n",
       "      <td>61</td>\n",
       "      <td>12681.png</td>\n",
       "      <td>0</td>\n",
       "    </tr>\n",
       "    <tr>\n",
       "      <th>1</th>\n",
       "      <td>12682</td>\n",
       "      <td>61</td>\n",
       "      <td>12682.png</td>\n",
       "      <td>0</td>\n",
       "    </tr>\n",
       "    <tr>\n",
       "      <th>2</th>\n",
       "      <td>12683</td>\n",
       "      <td>61</td>\n",
       "      <td>12683.png</td>\n",
       "      <td>0</td>\n",
       "    </tr>\n",
       "    <tr>\n",
       "      <th>3</th>\n",
       "      <td>12684</td>\n",
       "      <td>61</td>\n",
       "      <td>12684.png</td>\n",
       "      <td>0</td>\n",
       "    </tr>\n",
       "    <tr>\n",
       "      <th>4</th>\n",
       "      <td>12685</td>\n",
       "      <td>61</td>\n",
       "      <td>12685.png</td>\n",
       "      <td>0</td>\n",
       "    </tr>\n",
       "  </tbody>\n",
       "</table>\n",
       "</div>"
      ],
      "text/plain": [
       "   InstanceID  patientID  ImageName  isCancerous\n",
       "0       12681         61  12681.png            0\n",
       "1       12682         61  12682.png            0\n",
       "2       12683         61  12683.png            0\n",
       "3       12684         61  12684.png            0\n",
       "4       12685         61  12685.png            0"
      ]
     },
     "execution_count": 35,
     "metadata": {},
     "output_type": "execute_result"
    }
   ],
   "source": [
    "# read the testing file\n",
    "test = pd.read_csv('data_labels_extraData.csv')\n",
    "test.head()"
   ]
  },
  {
   "cell_type": "code",
   "execution_count": 36,
   "metadata": {},
   "outputs": [
    {
     "data": {
      "text/html": [
       "<div>\n",
       "<style scoped>\n",
       "    .dataframe tbody tr th:only-of-type {\n",
       "        vertical-align: middle;\n",
       "    }\n",
       "\n",
       "    .dataframe tbody tr th {\n",
       "        vertical-align: top;\n",
       "    }\n",
       "\n",
       "    .dataframe thead th {\n",
       "        text-align: right;\n",
       "    }\n",
       "</style>\n",
       "<table border=\"1\" class=\"dataframe\">\n",
       "  <thead>\n",
       "    <tr style=\"text-align: right;\">\n",
       "      <th></th>\n",
       "      <th>InstanceID</th>\n",
       "      <th>patientID</th>\n",
       "      <th>ImageName</th>\n",
       "      <th>isCancerous</th>\n",
       "      <th>path</th>\n",
       "    </tr>\n",
       "  </thead>\n",
       "  <tbody>\n",
       "    <tr>\n",
       "      <th>0</th>\n",
       "      <td>12681</td>\n",
       "      <td>61</td>\n",
       "      <td>12681.png</td>\n",
       "      <td>0</td>\n",
       "      <td>patch_images/12681.png</td>\n",
       "    </tr>\n",
       "    <tr>\n",
       "      <th>1</th>\n",
       "      <td>12682</td>\n",
       "      <td>61</td>\n",
       "      <td>12682.png</td>\n",
       "      <td>0</td>\n",
       "      <td>patch_images/12682.png</td>\n",
       "    </tr>\n",
       "    <tr>\n",
       "      <th>2</th>\n",
       "      <td>12683</td>\n",
       "      <td>61</td>\n",
       "      <td>12683.png</td>\n",
       "      <td>0</td>\n",
       "      <td>patch_images/12683.png</td>\n",
       "    </tr>\n",
       "    <tr>\n",
       "      <th>3</th>\n",
       "      <td>12684</td>\n",
       "      <td>61</td>\n",
       "      <td>12684.png</td>\n",
       "      <td>0</td>\n",
       "      <td>patch_images/12684.png</td>\n",
       "    </tr>\n",
       "    <tr>\n",
       "      <th>4</th>\n",
       "      <td>12685</td>\n",
       "      <td>61</td>\n",
       "      <td>12685.png</td>\n",
       "      <td>0</td>\n",
       "      <td>patch_images/12685.png</td>\n",
       "    </tr>\n",
       "  </tbody>\n",
       "</table>\n",
       "</div>"
      ],
      "text/plain": [
       "   InstanceID  patientID  ImageName  isCancerous                    path\n",
       "0       12681         61  12681.png            0  patch_images/12681.png\n",
       "1       12682         61  12682.png            0  patch_images/12682.png\n",
       "2       12683         61  12683.png            0  patch_images/12683.png\n",
       "3       12684         61  12684.png            0  patch_images/12684.png\n",
       "4       12685         61  12685.png            0  patch_images/12685.png"
      ]
     },
     "execution_count": 36,
     "metadata": {},
     "output_type": "execute_result"
    }
   ],
   "source": [
    "# read path\n",
    "path = \"patch_images/\"\n",
    "test['path'] = path + test['ImageName']\n",
    "test.head()"
   ]
  },
  {
   "cell_type": "code",
   "execution_count": 37,
   "metadata": {},
   "outputs": [],
   "source": [
    "test['image'] = test['path'].map(lambda x: np.asarray(Image.open(x).resize((SIZE,SIZE))))"
   ]
  },
  {
   "cell_type": "code",
   "execution_count": 38,
   "metadata": {},
   "outputs": [
    {
     "data": {
      "text/html": [
       "<div>\n",
       "<style scoped>\n",
       "    .dataframe tbody tr th:only-of-type {\n",
       "        vertical-align: middle;\n",
       "    }\n",
       "\n",
       "    .dataframe tbody tr th {\n",
       "        vertical-align: top;\n",
       "    }\n",
       "\n",
       "    .dataframe thead th {\n",
       "        text-align: right;\n",
       "    }\n",
       "</style>\n",
       "<table border=\"1\" class=\"dataframe\">\n",
       "  <thead>\n",
       "    <tr style=\"text-align: right;\">\n",
       "      <th></th>\n",
       "      <th>InstanceID</th>\n",
       "      <th>patientID</th>\n",
       "      <th>ImageName</th>\n",
       "      <th>isCancerous</th>\n",
       "      <th>path</th>\n",
       "      <th>image</th>\n",
       "    </tr>\n",
       "  </thead>\n",
       "  <tbody>\n",
       "    <tr>\n",
       "      <th>0</th>\n",
       "      <td>12681</td>\n",
       "      <td>61</td>\n",
       "      <td>12681.png</td>\n",
       "      <td>0</td>\n",
       "      <td>patch_images/12681.png</td>\n",
       "      <td>[[[165, 125, 180], [148, 110, 169], [161, 123,...</td>\n",
       "    </tr>\n",
       "    <tr>\n",
       "      <th>1</th>\n",
       "      <td>12682</td>\n",
       "      <td>61</td>\n",
       "      <td>12682.png</td>\n",
       "      <td>0</td>\n",
       "      <td>patch_images/12682.png</td>\n",
       "      <td>[[[241, 236, 240], [242, 235, 239], [241, 232,...</td>\n",
       "    </tr>\n",
       "    <tr>\n",
       "      <th>2</th>\n",
       "      <td>12683</td>\n",
       "      <td>61</td>\n",
       "      <td>12683.png</td>\n",
       "      <td>0</td>\n",
       "      <td>patch_images/12683.png</td>\n",
       "      <td>[[[250, 241, 253], [255, 245, 255], [246, 236,...</td>\n",
       "    </tr>\n",
       "    <tr>\n",
       "      <th>3</th>\n",
       "      <td>12684</td>\n",
       "      <td>61</td>\n",
       "      <td>12684.png</td>\n",
       "      <td>0</td>\n",
       "      <td>patch_images/12684.png</td>\n",
       "      <td>[[[255, 238, 255], [247, 228, 246], [239, 221,...</td>\n",
       "    </tr>\n",
       "    <tr>\n",
       "      <th>4</th>\n",
       "      <td>12685</td>\n",
       "      <td>61</td>\n",
       "      <td>12685.png</td>\n",
       "      <td>0</td>\n",
       "      <td>patch_images/12685.png</td>\n",
       "      <td>[[[222, 198, 219], [229, 205, 226], [224, 194,...</td>\n",
       "    </tr>\n",
       "    <tr>\n",
       "      <th>...</th>\n",
       "      <td>...</td>\n",
       "      <td>...</td>\n",
       "      <td>...</td>\n",
       "      <td>...</td>\n",
       "      <td>...</td>\n",
       "      <td>...</td>\n",
       "    </tr>\n",
       "    <tr>\n",
       "      <th>10379</th>\n",
       "      <td>20028</td>\n",
       "      <td>99</td>\n",
       "      <td>20028.png</td>\n",
       "      <td>0</td>\n",
       "      <td>patch_images/20028.png</td>\n",
       "      <td>[[[243, 240, 242], [244, 241, 242], [244, 241,...</td>\n",
       "    </tr>\n",
       "    <tr>\n",
       "      <th>10380</th>\n",
       "      <td>20029</td>\n",
       "      <td>99</td>\n",
       "      <td>20029.png</td>\n",
       "      <td>0</td>\n",
       "      <td>patch_images/20029.png</td>\n",
       "      <td>[[[206, 172, 214], [218, 185, 226], [221, 187,...</td>\n",
       "    </tr>\n",
       "    <tr>\n",
       "      <th>10381</th>\n",
       "      <td>20030</td>\n",
       "      <td>99</td>\n",
       "      <td>20030.png</td>\n",
       "      <td>0</td>\n",
       "      <td>patch_images/20030.png</td>\n",
       "      <td>[[[243, 242, 242], [243, 241, 242], [243, 240,...</td>\n",
       "    </tr>\n",
       "    <tr>\n",
       "      <th>10382</th>\n",
       "      <td>20031</td>\n",
       "      <td>99</td>\n",
       "      <td>20031.png</td>\n",
       "      <td>0</td>\n",
       "      <td>patch_images/20031.png</td>\n",
       "      <td>[[[246, 240, 248], [246, 240, 249], [246, 240,...</td>\n",
       "    </tr>\n",
       "    <tr>\n",
       "      <th>10383</th>\n",
       "      <td>20032</td>\n",
       "      <td>99</td>\n",
       "      <td>20032.png</td>\n",
       "      <td>0</td>\n",
       "      <td>patch_images/20032.png</td>\n",
       "      <td>[[[203, 179, 223], [210, 186, 228], [220, 196,...</td>\n",
       "    </tr>\n",
       "  </tbody>\n",
       "</table>\n",
       "<p>10384 rows × 6 columns</p>\n",
       "</div>"
      ],
      "text/plain": [
       "       InstanceID  patientID  ImageName  isCancerous                    path  \\\n",
       "0           12681         61  12681.png            0  patch_images/12681.png   \n",
       "1           12682         61  12682.png            0  patch_images/12682.png   \n",
       "2           12683         61  12683.png            0  patch_images/12683.png   \n",
       "3           12684         61  12684.png            0  patch_images/12684.png   \n",
       "4           12685         61  12685.png            0  patch_images/12685.png   \n",
       "...           ...        ...        ...          ...                     ...   \n",
       "10379       20028         99  20028.png            0  patch_images/20028.png   \n",
       "10380       20029         99  20029.png            0  patch_images/20029.png   \n",
       "10381       20030         99  20030.png            0  patch_images/20030.png   \n",
       "10382       20031         99  20031.png            0  patch_images/20031.png   \n",
       "10383       20032         99  20032.png            0  patch_images/20032.png   \n",
       "\n",
       "                                                   image  \n",
       "0      [[[165, 125, 180], [148, 110, 169], [161, 123,...  \n",
       "1      [[[241, 236, 240], [242, 235, 239], [241, 232,...  \n",
       "2      [[[250, 241, 253], [255, 245, 255], [246, 236,...  \n",
       "3      [[[255, 238, 255], [247, 228, 246], [239, 221,...  \n",
       "4      [[[222, 198, 219], [229, 205, 226], [224, 194,...  \n",
       "...                                                  ...  \n",
       "10379  [[[243, 240, 242], [244, 241, 242], [244, 241,...  \n",
       "10380  [[[206, 172, 214], [218, 185, 226], [221, 187,...  \n",
       "10381  [[[243, 242, 242], [243, 241, 242], [243, 240,...  \n",
       "10382  [[[246, 240, 248], [246, 240, 249], [246, 240,...  \n",
       "10383  [[[203, 179, 223], [210, 186, 228], [220, 196,...  \n",
       "\n",
       "[10384 rows x 6 columns]"
      ]
     },
     "execution_count": 38,
     "metadata": {},
     "output_type": "execute_result"
    }
   ],
   "source": [
    "test"
   ]
  },
  {
   "cell_type": "code",
   "execution_count": 39,
   "metadata": {},
   "outputs": [],
   "source": [
    "# Convert image into numpy array\n",
    "X_val = np.asarray(test['image'].tolist())\n",
    "X_val = X_val/255."
   ]
  },
  {
   "cell_type": "code",
   "execution_count": 40,
   "metadata": {},
   "outputs": [
    {
     "name": "stdout",
     "output_type": "stream",
     "text": [
      "The class is [0 0 0 ... 0 1 0]\n"
     ]
    }
   ],
   "source": [
    "# predict the result of image \n",
    "y = model.predict(X_val)\n",
    "y_pre = np.argmax(y, axis = 1) \n",
    "print(\"The class is\",y_pre)\n",
    "test[\"predict\"] = y_pre"
   ]
  },
  {
   "cell_type": "code",
   "execution_count": 41,
   "metadata": {
    "scrolled": true
   },
   "outputs": [
    {
     "name": "stdout",
     "output_type": "stream",
     "text": [
      "              precision    recall  f1-score   support\n",
      "\n",
      "           0       0.53      0.98      0.69      3995\n",
      "           1       0.97      0.46      0.62      6389\n",
      "\n",
      "    accuracy                           0.66     10384\n",
      "   macro avg       0.75      0.72      0.65     10384\n",
      "weighted avg       0.80      0.66      0.65     10384\n",
      "\n"
     ]
    }
   ],
   "source": [
    "# print out classification report\n",
    "print(classification_report(y_pre, test['isCancerous']))"
   ]
  }
 ],
 "metadata": {
  "kernelspec": {
   "display_name": "Python 3",
   "language": "python",
   "name": "python3"
  },
  "language_info": {
   "codemirror_mode": {
    "name": "ipython",
    "version": 3
   },
   "file_extension": ".py",
   "mimetype": "text/x-python",
   "name": "python",
   "nbconvert_exporter": "python",
   "pygments_lexer": "ipython3",
   "version": "3.8.5"
  }
 },
 "nbformat": 4,
 "nbformat_minor": 4
}
