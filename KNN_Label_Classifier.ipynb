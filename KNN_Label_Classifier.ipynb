{
 "cells": [
  {
   "cell_type": "code",
   "execution_count": 1,
   "metadata": {},
   "outputs": [],
   "source": [
    "import pandas as pd\n",
    "import numpy as np\n",
    "import matplotlib.pyplot as plt\n",
    "import random\n",
    "import os\n",
    "from glob import glob\n",
    "import seaborn as sns\n",
    "from PIL import Image\n",
    "import keras\n",
    "from sklearn.model_selection import train_test_split\n",
    "from scipy import stats\n",
    "from sklearn.utils import resample\n",
    "from sklearn.metrics import classification_report, confusion_matrix\n",
    "from sklearn.neighbors import KNeighborsClassifier\n",
    "\n",
    "# Size default\n",
    "SIZE = 32"
   ]
  },
  {
   "cell_type": "markdown",
   "metadata": {},
   "source": [
    "# Loading dataset"
   ]
  },
  {
   "cell_type": "code",
   "execution_count": 2,
   "metadata": {},
   "outputs": [
    {
     "data": {
      "text/html": [
       "<div>\n",
       "<style scoped>\n",
       "    .dataframe tbody tr th:only-of-type {\n",
       "        vertical-align: middle;\n",
       "    }\n",
       "\n",
       "    .dataframe tbody tr th {\n",
       "        vertical-align: top;\n",
       "    }\n",
       "\n",
       "    .dataframe thead th {\n",
       "        text-align: right;\n",
       "    }\n",
       "</style>\n",
       "<table border=\"1\" class=\"dataframe\">\n",
       "  <thead>\n",
       "    <tr style=\"text-align: right;\">\n",
       "      <th></th>\n",
       "      <th>InstanceID</th>\n",
       "      <th>patientID</th>\n",
       "      <th>ImageName</th>\n",
       "      <th>cellTypeName</th>\n",
       "      <th>cellType</th>\n",
       "      <th>isCancerous</th>\n",
       "    </tr>\n",
       "  </thead>\n",
       "  <tbody>\n",
       "    <tr>\n",
       "      <th>0</th>\n",
       "      <td>22405</td>\n",
       "      <td>1</td>\n",
       "      <td>22405.png</td>\n",
       "      <td>fibroblast</td>\n",
       "      <td>0</td>\n",
       "      <td>0</td>\n",
       "    </tr>\n",
       "    <tr>\n",
       "      <th>1</th>\n",
       "      <td>22406</td>\n",
       "      <td>1</td>\n",
       "      <td>22406.png</td>\n",
       "      <td>fibroblast</td>\n",
       "      <td>0</td>\n",
       "      <td>0</td>\n",
       "    </tr>\n",
       "    <tr>\n",
       "      <th>2</th>\n",
       "      <td>22407</td>\n",
       "      <td>1</td>\n",
       "      <td>22407.png</td>\n",
       "      <td>fibroblast</td>\n",
       "      <td>0</td>\n",
       "      <td>0</td>\n",
       "    </tr>\n",
       "    <tr>\n",
       "      <th>3</th>\n",
       "      <td>22408</td>\n",
       "      <td>1</td>\n",
       "      <td>22408.png</td>\n",
       "      <td>fibroblast</td>\n",
       "      <td>0</td>\n",
       "      <td>0</td>\n",
       "    </tr>\n",
       "    <tr>\n",
       "      <th>4</th>\n",
       "      <td>22409</td>\n",
       "      <td>1</td>\n",
       "      <td>22409.png</td>\n",
       "      <td>fibroblast</td>\n",
       "      <td>0</td>\n",
       "      <td>0</td>\n",
       "    </tr>\n",
       "  </tbody>\n",
       "</table>\n",
       "</div>"
      ],
      "text/plain": [
       "   InstanceID  patientID  ImageName cellTypeName  cellType  isCancerous\n",
       "0       22405          1  22405.png   fibroblast         0            0\n",
       "1       22406          1  22406.png   fibroblast         0            0\n",
       "2       22407          1  22407.png   fibroblast         0            0\n",
       "3       22408          1  22408.png   fibroblast         0            0\n",
       "4       22409          1  22409.png   fibroblast         0            0"
      ]
     },
     "execution_count": 2,
     "metadata": {},
     "output_type": "execute_result"
    }
   ],
   "source": [
    "# read the training dataset\n",
    "train = pd.read_csv('data_labels_mainData.csv')\n",
    "\n",
    "# display the first 5 rows\n",
    "train.head()"
   ]
  },
  {
   "cell_type": "code",
   "execution_count": 3,
   "metadata": {
    "scrolled": true
   },
   "outputs": [
    {
     "data": {
      "text/plain": [
       "Text(0.5, 1.0, 'cellType')"
      ]
     },
     "execution_count": 3,
     "metadata": {},
     "output_type": "execute_result"
    },
    {
     "data": {
      "image/png": "[encoded data removed]",
      "text/plain": [
       "<Figure size 2160x1440 with 1 Axes>"
      ]
     },
     "metadata": {
      "needs_background": "light"
     },
     "output_type": "display_data"
    }
   ],
   "source": [
    "# Plot the datagram represent the number of data of each cellType \n",
    "fig = plt.figure(figsize=(30,20))\n",
    "ax1=fig.add_subplot(221)\n",
    "train['cellType'].value_counts().plot(kind='bar', ax=ax1)\n",
    "ax1.set_ylabel('count')\n",
    "ax1.set_title('cellType')"
   ]
  },
  {
   "cell_type": "code",
   "execution_count": 4,
   "metadata": {},
   "outputs": [
    {
     "data": {
      "text/plain": [
       "2    4079\n",
       "1    2543\n",
       "0    1888\n",
       "3    1386\n",
       "Name: cellType, dtype: int64"
      ]
     },
     "execution_count": 4,
     "metadata": {},
     "output_type": "execute_result"
    }
   ],
   "source": [
    "# count value of each cellType\n",
    "train.cellType.value_counts()"
   ]
  },
  {
   "cell_type": "markdown",
   "metadata": {},
   "source": [
    "# Data Preparation and Processing"
   ]
  },
  {
   "cell_type": "code",
   "execution_count": 5,
   "metadata": {},
   "outputs": [],
   "source": [
    "# define new dataframe to store data of each cellType\n",
    "train_0 = train[train['cellType'] == 0]\n",
    "train_1 = train[train['cellType'] == 1]\n",
    "train_2 = train[train['cellType'] == 2]\n",
    "train_3 = train[train['cellType'] == 3]"
   ]
  },
  {
   "cell_type": "code",
   "execution_count": 6,
   "metadata": {},
   "outputs": [],
   "source": [
    "# set the number of data of others cellType = number of data of cellType 2 (balance data)\n",
    "train_0_balanced = resample(train_0, replace=True, n_samples = len(train_2), random_state = 42)\n",
    "train_1_balanced = resample(train_1, replace=True, n_samples = len(train_2), random_state = 42)\n",
    "train_3_balanced = resample(train_3, replace=True, n_samples = len(train_2), random_state = 42)\n"
   ]
  },
  {
   "cell_type": "code",
   "execution_count": 7,
   "metadata": {},
   "outputs": [],
   "source": [
    "# combine back to a single dataframe\n",
    "train_balanced = pd.concat([train_0_balanced,train_1_balanced, train_2, train_3_balanced])"
   ]
  },
  {
   "cell_type": "code",
   "execution_count": 8,
   "metadata": {},
   "outputs": [
    {
     "name": "stdout",
     "output_type": "stream",
     "text": [
      "3    4079\n",
      "2    4079\n",
      "1    4079\n",
      "0    4079\n",
      "Name: cellType, dtype: int64\n"
     ]
    }
   ],
   "source": [
    "# check the distribution: All cellTypes should be balanced \n",
    "print(train_balanced['cellType'].value_counts())"
   ]
  },
  {
   "cell_type": "code",
   "execution_count": 9,
   "metadata": {},
   "outputs": [
    {
     "data": {
      "text/plain": [
       "(16316, 6)"
      ]
     },
     "execution_count": 9,
     "metadata": {},
     "output_type": "execute_result"
    }
   ],
   "source": [
    "# shape of dataframe\n",
    "train_balanced.shape"
   ]
  },
  {
   "cell_type": "code",
   "execution_count": 10,
   "metadata": {},
   "outputs": [
    {
     "data": {
      "text/html": [
       "<div>\n",
       "<style scoped>\n",
       "    .dataframe tbody tr th:only-of-type {\n",
       "        vertical-align: middle;\n",
       "    }\n",
       "\n",
       "    .dataframe tbody tr th {\n",
       "        vertical-align: top;\n",
       "    }\n",
       "\n",
       "    .dataframe thead th {\n",
       "        text-align: right;\n",
       "    }\n",
       "</style>\n",
       "<table border=\"1\" class=\"dataframe\">\n",
       "  <thead>\n",
       "    <tr style=\"text-align: right;\">\n",
       "      <th></th>\n",
       "      <th>InstanceID</th>\n",
       "      <th>patientID</th>\n",
       "      <th>ImageName</th>\n",
       "      <th>cellTypeName</th>\n",
       "      <th>cellType</th>\n",
       "      <th>isCancerous</th>\n",
       "    </tr>\n",
       "  </thead>\n",
       "  <tbody>\n",
       "    <tr>\n",
       "      <th>6095</th>\n",
       "      <td>20563</td>\n",
       "      <td>37</td>\n",
       "      <td>20563.png</td>\n",
       "      <td>fibroblast</td>\n",
       "      <td>0</td>\n",
       "      <td>0</td>\n",
       "    </tr>\n",
       "    <tr>\n",
       "      <th>7209</th>\n",
       "      <td>19008</td>\n",
       "      <td>45</td>\n",
       "      <td>19008.png</td>\n",
       "      <td>fibroblast</td>\n",
       "      <td>0</td>\n",
       "      <td>0</td>\n",
       "    </tr>\n",
       "    <tr>\n",
       "      <th>4375</th>\n",
       "      <td>20207</td>\n",
       "      <td>23</td>\n",
       "      <td>20207.png</td>\n",
       "      <td>fibroblast</td>\n",
       "      <td>0</td>\n",
       "      <td>0</td>\n",
       "    </tr>\n",
       "    <tr>\n",
       "      <th>6768</th>\n",
       "      <td>3940</td>\n",
       "      <td>42</td>\n",
       "      <td>3940.png</td>\n",
       "      <td>fibroblast</td>\n",
       "      <td>0</td>\n",
       "      <td>0</td>\n",
       "    </tr>\n",
       "    <tr>\n",
       "      <th>6099</th>\n",
       "      <td>20567</td>\n",
       "      <td>37</td>\n",
       "      <td>20567.png</td>\n",
       "      <td>fibroblast</td>\n",
       "      <td>0</td>\n",
       "      <td>0</td>\n",
       "    </tr>\n",
       "  </tbody>\n",
       "</table>\n",
       "</div>"
      ],
      "text/plain": [
       "      InstanceID  patientID  ImageName cellTypeName  cellType  isCancerous\n",
       "6095       20563         37  20563.png   fibroblast         0            0\n",
       "7209       19008         45  19008.png   fibroblast         0            0\n",
       "4375       20207         23  20207.png   fibroblast         0            0\n",
       "6768        3940         42   3940.png   fibroblast         0            0\n",
       "6099       20567         37  20567.png   fibroblast         0            0"
      ]
     },
     "execution_count": 10,
     "metadata": {},
     "output_type": "execute_result"
    }
   ],
   "source": [
    "# display the first 5 rows of the new dataframe\n",
    "train_balanced.head()"
   ]
  },
  {
   "cell_type": "code",
   "execution_count": 11,
   "metadata": {},
   "outputs": [],
   "source": [
    "# drop unused columns\n",
    "train_balanced = train_balanced.drop(['InstanceID', 'patientID',\"cellTypeName\",\"isCancerous\"], axis = 1)"
   ]
  },
  {
   "cell_type": "code",
   "execution_count": 12,
   "metadata": {},
   "outputs": [
    {
     "data": {
      "text/html": [
       "<div>\n",
       "<style scoped>\n",
       "    .dataframe tbody tr th:only-of-type {\n",
       "        vertical-align: middle;\n",
       "    }\n",
       "\n",
       "    .dataframe tbody tr th {\n",
       "        vertical-align: top;\n",
       "    }\n",
       "\n",
       "    .dataframe thead th {\n",
       "        text-align: right;\n",
       "    }\n",
       "</style>\n",
       "<table border=\"1\" class=\"dataframe\">\n",
       "  <thead>\n",
       "    <tr style=\"text-align: right;\">\n",
       "      <th></th>\n",
       "      <th>ImageName</th>\n",
       "      <th>cellType</th>\n",
       "    </tr>\n",
       "  </thead>\n",
       "  <tbody>\n",
       "    <tr>\n",
       "      <th>6095</th>\n",
       "      <td>20563.png</td>\n",
       "      <td>0</td>\n",
       "    </tr>\n",
       "    <tr>\n",
       "      <th>7209</th>\n",
       "      <td>19008.png</td>\n",
       "      <td>0</td>\n",
       "    </tr>\n",
       "    <tr>\n",
       "      <th>4375</th>\n",
       "      <td>20207.png</td>\n",
       "      <td>0</td>\n",
       "    </tr>\n",
       "    <tr>\n",
       "      <th>6768</th>\n",
       "      <td>3940.png</td>\n",
       "      <td>0</td>\n",
       "    </tr>\n",
       "    <tr>\n",
       "      <th>6099</th>\n",
       "      <td>20567.png</td>\n",
       "      <td>0</td>\n",
       "    </tr>\n",
       "  </tbody>\n",
       "</table>\n",
       "</div>"
      ],
      "text/plain": [
       "      ImageName  cellType\n",
       "6095  20563.png         0\n",
       "7209  19008.png         0\n",
       "4375  20207.png         0\n",
       "6768   3940.png         0\n",
       "6099  20567.png         0"
      ]
     },
     "execution_count": 12,
     "metadata": {},
     "output_type": "execute_result"
    }
   ],
   "source": [
    "# dataframe after dropping column\n",
    "train_balanced.head()"
   ]
  },
  {
   "cell_type": "code",
   "execution_count": 13,
   "metadata": {},
   "outputs": [
    {
     "data": {
      "text/html": [
       "<div>\n",
       "<style scoped>\n",
       "    .dataframe tbody tr th:only-of-type {\n",
       "        vertical-align: middle;\n",
       "    }\n",
       "\n",
       "    .dataframe tbody tr th {\n",
       "        vertical-align: top;\n",
       "    }\n",
       "\n",
       "    .dataframe thead th {\n",
       "        text-align: right;\n",
       "    }\n",
       "</style>\n",
       "<table border=\"1\" class=\"dataframe\">\n",
       "  <thead>\n",
       "    <tr style=\"text-align: right;\">\n",
       "      <th></th>\n",
       "      <th>ImageName</th>\n",
       "      <th>cellType</th>\n",
       "      <th>path</th>\n",
       "    </tr>\n",
       "  </thead>\n",
       "  <tbody>\n",
       "    <tr>\n",
       "      <th>6095</th>\n",
       "      <td>20563.png</td>\n",
       "      <td>0</td>\n",
       "      <td>patch_images/20563.png</td>\n",
       "    </tr>\n",
       "    <tr>\n",
       "      <th>7209</th>\n",
       "      <td>19008.png</td>\n",
       "      <td>0</td>\n",
       "      <td>patch_images/19008.png</td>\n",
       "    </tr>\n",
       "    <tr>\n",
       "      <th>4375</th>\n",
       "      <td>20207.png</td>\n",
       "      <td>0</td>\n",
       "      <td>patch_images/20207.png</td>\n",
       "    </tr>\n",
       "    <tr>\n",
       "      <th>6768</th>\n",
       "      <td>3940.png</td>\n",
       "      <td>0</td>\n",
       "      <td>patch_images/3940.png</td>\n",
       "    </tr>\n",
       "    <tr>\n",
       "      <th>6099</th>\n",
       "      <td>20567.png</td>\n",
       "      <td>0</td>\n",
       "      <td>patch_images/20567.png</td>\n",
       "    </tr>\n",
       "  </tbody>\n",
       "</table>\n",
       "</div>"
      ],
      "text/plain": [
       "      ImageName  cellType                    path\n",
       "6095  20563.png         0  patch_images/20563.png\n",
       "7209  19008.png         0  patch_images/19008.png\n",
       "4375  20207.png         0  patch_images/20207.png\n",
       "6768   3940.png         0   patch_images/3940.png\n",
       "6099  20567.png         0  patch_images/20567.png"
      ]
     },
     "execution_count": 13,
     "metadata": {},
     "output_type": "execute_result"
    }
   ],
   "source": [
    "# read images based on ImageName from CSV file\n",
    "path = \"patch_images/\"\n",
    "\n",
    "# define the path and add as a new column \n",
    "train_balanced['path'] = path + train_balanced['ImageName']\n",
    "\n",
    "# check the dataframe\n",
    "train_balanced.head()"
   ]
  },
  {
   "cell_type": "code",
   "execution_count": 14,
   "metadata": {},
   "outputs": [],
   "source": [
    "# Use the path to read image and convert image into numpy array\n",
    "train_balanced['image'] = train_balanced['path'].map(lambda x: np.asarray(Image.open(x).resize((SIZE,SIZE))))"
   ]
  },
  {
   "cell_type": "code",
   "execution_count": 15,
   "metadata": {},
   "outputs": [
    {
     "data": {
      "text/html": [
       "<div>\n",
       "<style scoped>\n",
       "    .dataframe tbody tr th:only-of-type {\n",
       "        vertical-align: middle;\n",
       "    }\n",
       "\n",
       "    .dataframe tbody tr th {\n",
       "        vertical-align: top;\n",
       "    }\n",
       "\n",
       "    .dataframe thead th {\n",
       "        text-align: right;\n",
       "    }\n",
       "</style>\n",
       "<table border=\"1\" class=\"dataframe\">\n",
       "  <thead>\n",
       "    <tr style=\"text-align: right;\">\n",
       "      <th></th>\n",
       "      <th>ImageName</th>\n",
       "      <th>cellType</th>\n",
       "      <th>path</th>\n",
       "      <th>image</th>\n",
       "    </tr>\n",
       "  </thead>\n",
       "  <tbody>\n",
       "    <tr>\n",
       "      <th>6095</th>\n",
       "      <td>20563.png</td>\n",
       "      <td>0</td>\n",
       "      <td>patch_images/20563.png</td>\n",
       "      <td>[[[242, 164, 208], [236, 159, 206], [229, 153,...</td>\n",
       "    </tr>\n",
       "  </tbody>\n",
       "</table>\n",
       "</div>"
      ],
      "text/plain": [
       "      ImageName  cellType                    path  \\\n",
       "6095  20563.png         0  patch_images/20563.png   \n",
       "\n",
       "                                                  image  \n",
       "6095  [[[242, 164, 208], [236, 159, 206], [229, 153,...  "
      ]
     },
     "execution_count": 15,
     "metadata": {},
     "output_type": "execute_result"
    }
   ],
   "source": [
    "# check dataframe\n",
    "train_balanced.head(1)"
   ]
  },
  {
   "cell_type": "code",
   "execution_count": 16,
   "metadata": {},
   "outputs": [
    {
     "data": {
      "image/png": "[encoded data removed]",
      "text/plain": [
       "<Figure size 1440x1512 with 20 Axes>"
      ]
     },
     "metadata": {
      "needs_background": "light"
     },
     "output_type": "display_data"
    }
   ],
   "source": [
    "# Plotting some images of each category\n",
    "fig, m_axs = plt.subplots(4, 5, figsize = (20, 21))\n",
    "for n_axs, (type_name, type_rows) in zip(m_axs, train_balanced.sort_values(['cellType']).groupby('cellType')):\n",
    "    n_axs[0].set_title(type_name)\n",
    "    for c_ax, (_, c_row) in zip(n_axs, type_rows.sample(5, random_state=42).iterrows()):\n",
    "        c_ax.imshow(c_row['image'])\n",
    "        c_ax.axis('off')"
   ]
  },
  {
   "cell_type": "markdown",
   "metadata": {},
   "source": [
    "# Extract Training Data using Train_Split_Test"
   ]
  },
  {
   "cell_type": "code",
   "execution_count": 17,
   "metadata": {},
   "outputs": [
    {
     "name": "stdout",
     "output_type": "stream",
     "text": [
      "[[[[0.94901961 0.64313725 0.81568627]\n",
      "   [0.9254902  0.62352941 0.80784314]\n",
      "   [0.89803922 0.6        0.8       ]\n",
      "   ...\n",
      "   [0.91372549 0.61568627 0.79215686]\n",
      "   [0.89411765 0.59607843 0.76470588]\n",
      "   [0.91372549 0.61568627 0.78431373]]\n",
      "\n",
      "  [[0.94117647 0.63137255 0.81176471]\n",
      "   [0.92156863 0.61176471 0.80392157]\n",
      "   [0.87058824 0.57254902 0.78039216]\n",
      "   ...\n",
      "   [0.91372549 0.61568627 0.79215686]\n",
      "   [0.89019608 0.59607843 0.76470588]\n",
      "   [0.89019608 0.59215686 0.76078431]]\n",
      "\n",
      "  [[0.92941176 0.61568627 0.80784314]\n",
      "   [0.91372549 0.60392157 0.80392157]\n",
      "   [0.84705882 0.55294118 0.76470588]\n",
      "   ...\n",
      "   [0.8627451  0.56470588 0.7372549 ]\n",
      "   [0.8627451  0.56862745 0.7372549 ]\n",
      "   [0.86666667 0.56862745 0.7372549 ]]\n",
      "\n",
      "  ...\n",
      "\n",
      "  [[0.96078431 0.64313725 0.8       ]\n",
      "   [0.94117647 0.63137255 0.78431373]\n",
      "   [0.90196078 0.60784314 0.77254902]\n",
      "   ...\n",
      "   [0.83529412 0.54509804 0.74117647]\n",
      "   [0.85882353 0.57254902 0.75294118]\n",
      "   [0.92156863 0.65882353 0.82352941]]\n",
      "\n",
      "  [[0.95294118 0.63921569 0.79607843]\n",
      "   [0.9372549  0.62745098 0.79215686]\n",
      "   [0.90196078 0.61176471 0.78823529]\n",
      "   ...\n",
      "   [0.82745098 0.5372549  0.7372549 ]\n",
      "   [0.89019608 0.61176471 0.78039216]\n",
      "   [0.96862745 0.74117647 0.88235294]]\n",
      "\n",
      "  [[0.96470588 0.65098039 0.81568627]\n",
      "   [0.94117647 0.63921569 0.81176471]\n",
      "   [0.89411765 0.61176471 0.79607843]\n",
      "   ...\n",
      "   [0.83137255 0.54901961 0.74901961]\n",
      "   [0.91764706 0.65882353 0.81568627]\n",
      "   [1.         0.81568627 0.94117647]]]\n",
      "\n",
      "\n",
      " [[[0.9254902  0.63921569 0.83921569]\n",
      "   [0.86666667 0.56862745 0.78431373]\n",
      "   [0.86666667 0.56078431 0.77647059]\n",
      "   ...\n",
      "   [0.9254902  0.60784314 0.8       ]\n",
      "   [0.90980392 0.58431373 0.76078431]\n",
      "   [0.87058824 0.54509804 0.76862745]]\n",
      "\n",
      "  [[0.92156863 0.63529412 0.83921569]\n",
      "   [0.90196078 0.60784314 0.82352941]\n",
      "   [0.88627451 0.58431373 0.8       ]\n",
      "   ...\n",
      "   [0.90980392 0.58039216 0.78823529]\n",
      "   [0.89411765 0.56862745 0.75686275]\n",
      "   [0.90588235 0.58039216 0.79607843]]\n",
      "\n",
      "  [[0.93333333 0.64705882 0.85882353]\n",
      "   [0.9372549  0.64705882 0.85882353]\n",
      "   [0.91372549 0.61568627 0.82352941]\n",
      "   ...\n",
      "   [0.89019608 0.56078431 0.78039216]\n",
      "   [0.88235294 0.55686275 0.75294118]\n",
      "   [0.90196078 0.58039216 0.78823529]]\n",
      "\n",
      "  ...\n",
      "\n",
      "  [[0.8745098  0.55294118 0.78039216]\n",
      "   [0.83921569 0.51764706 0.72941176]\n",
      "   [0.89019608 0.57647059 0.77647059]\n",
      "   ...\n",
      "   [0.71372549 0.41176471 0.69019608]\n",
      "   [0.77254902 0.47843137 0.76862745]\n",
      "   [0.77647059 0.48627451 0.76470588]]\n",
      "\n",
      "  [[0.91764706 0.59607843 0.83529412]\n",
      "   [0.85098039 0.52941176 0.7372549 ]\n",
      "   [0.87843137 0.56470588 0.76078431]\n",
      "   ...\n",
      "   [0.70980392 0.40392157 0.69019608]\n",
      "   [0.78823529 0.49019608 0.78431373]\n",
      "   [0.78823529 0.49411765 0.78039216]]\n",
      "\n",
      "  [[0.92156863 0.6        0.84313725]\n",
      "   [0.85490196 0.54117647 0.76078431]\n",
      "   [0.8745098  0.56078431 0.76078431]\n",
      "   ...\n",
      "   [0.68235294 0.37647059 0.66666667]\n",
      "   [0.77647059 0.47843137 0.77647059]\n",
      "   [0.82745098 0.53333333 0.81960784]]]\n",
      "\n",
      "\n",
      " [[[0.78039216 0.5254902  0.75686275]\n",
      "   [0.68235294 0.41176471 0.65882353]\n",
      "   [0.58823529 0.30980392 0.56078431]\n",
      "   ...\n",
      "   [0.61568627 0.35294118 0.61568627]\n",
      "   [0.49803922 0.2745098  0.56078431]\n",
      "   [0.39607843 0.19215686 0.50196078]]\n",
      "\n",
      "  [[0.6745098  0.42745098 0.70980392]\n",
      "   [0.59215686 0.3254902  0.59607843]\n",
      "   [0.65098039 0.37254902 0.61176471]\n",
      "   ...\n",
      "   [0.56862745 0.29803922 0.6       ]\n",
      "   [0.45098039 0.21568627 0.5372549 ]\n",
      "   [0.41568627 0.21176471 0.5372549 ]]\n",
      "\n",
      "  [[0.56470588 0.30980392 0.6       ]\n",
      "   [0.61176471 0.34901961 0.60784314]\n",
      "   [0.77647059 0.50196078 0.70980392]\n",
      "   ...\n",
      "   [0.5254902  0.25882353 0.57254902]\n",
      "   [0.4745098  0.23921569 0.56078431]\n",
      "   [0.4627451  0.25490196 0.57254902]]\n",
      "\n",
      "  ...\n",
      "\n",
      "  [[0.86666667 0.53333333 0.67058824]\n",
      "   [0.85098039 0.52156863 0.65490196]\n",
      "   [0.85490196 0.5254902  0.6627451 ]\n",
      "   ...\n",
      "   [0.82745098 0.52941176 0.75294118]\n",
      "   [0.89019608 0.61176471 0.81568627]\n",
      "   [0.95686275 0.69411765 0.87843137]]\n",
      "\n",
      "  [[0.9254902  0.59607843 0.73333333]\n",
      "   [0.85882353 0.52941176 0.66666667]\n",
      "   [0.81960784 0.49019608 0.63529412]\n",
      "   ...\n",
      "   [0.82745098 0.53333333 0.74509804]\n",
      "   [0.92156863 0.65098039 0.83921569]\n",
      "   [0.99215686 0.74901961 0.90980392]]\n",
      "\n",
      "  [[0.89019608 0.56470588 0.70980392]\n",
      "   [0.81960784 0.49019608 0.63921569]\n",
      "   [0.76862745 0.43921569 0.59607843]\n",
      "   ...\n",
      "   [0.85882353 0.56078431 0.76862745]\n",
      "   [0.97254902 0.69803922 0.87058824]\n",
      "   [0.99607843 0.8        0.9372549 ]]]\n",
      "\n",
      "\n",
      " ...\n",
      "\n",
      "\n",
      " [[[0.87058824 0.59607843 0.81176471]\n",
      "   [0.82352941 0.55686275 0.77647059]\n",
      "   [0.8        0.54901961 0.76862745]\n",
      "   ...\n",
      "   [0.80784314 0.50980392 0.6627451 ]\n",
      "   [0.83921569 0.54117647 0.72156863]\n",
      "   [0.81568627 0.51764706 0.72156863]]\n",
      "\n",
      "  [[0.8        0.51372549 0.7372549 ]\n",
      "   [0.8        0.52156863 0.74509804]\n",
      "   [0.79215686 0.5254902  0.74901961]\n",
      "   ...\n",
      "   [0.89803922 0.61176471 0.72941176]\n",
      "   [0.92156863 0.62352941 0.77647059]\n",
      "   [0.9372549  0.63137255 0.82745098]]\n",
      "\n",
      "  [[0.82352941 0.5254902  0.75294118]\n",
      "   [0.83137255 0.54117647 0.76862745]\n",
      "   [0.81960784 0.53333333 0.75686275]\n",
      "   ...\n",
      "   [0.89803922 0.62352941 0.75294118]\n",
      "   [0.9254902  0.64313725 0.80392157]\n",
      "   [1.         0.7254902  0.91764706]]\n",
      "\n",
      "  ...\n",
      "\n",
      "  [[0.90980392 0.63921569 0.8       ]\n",
      "   [0.94901961 0.6745098  0.84705882]\n",
      "   [0.9372549  0.65490196 0.84313725]\n",
      "   ...\n",
      "   [0.85490196 0.55686275 0.71764706]\n",
      "   [0.85098039 0.54509804 0.74117647]\n",
      "   [0.81960784 0.49803922 0.72941176]]\n",
      "\n",
      "  [[0.89803922 0.62352941 0.78823529]\n",
      "   [0.92941176 0.65490196 0.83529412]\n",
      "   [0.88627451 0.60392157 0.80392157]\n",
      "   ...\n",
      "   [0.86666667 0.56862745 0.72156863]\n",
      "   [0.84705882 0.5372549  0.72156863]\n",
      "   [0.80392157 0.48627451 0.70196078]]\n",
      "\n",
      "  [[0.89803922 0.62352941 0.78823529]\n",
      "   [0.90980392 0.63137255 0.81568627]\n",
      "   [0.83137255 0.54509804 0.76470588]\n",
      "   ...\n",
      "   [0.93333333 0.63529412 0.79215686]\n",
      "   [0.90588235 0.59607843 0.77647059]\n",
      "   [0.74901961 0.44313725 0.64313725]]]\n",
      "\n",
      "\n",
      " [[[0.92941176 0.76470588 0.92156863]\n",
      "   [0.84313725 0.6627451  0.80784314]\n",
      "   [0.79607843 0.61176471 0.74901961]\n",
      "   ...\n",
      "   [0.80784314 0.55294118 0.80784314]\n",
      "   [0.9372549  0.69019608 0.90196078]\n",
      "   [0.97254902 0.74117647 0.91764706]]\n",
      "\n",
      "  [[0.98431373 0.87058824 0.98431373]\n",
      "   [0.96862745 0.85098039 0.96470588]\n",
      "   [0.93333333 0.78431373 0.91764706]\n",
      "   ...\n",
      "   [0.92941176 0.69411765 0.85490196]\n",
      "   [0.93333333 0.69803922 0.83921569]\n",
      "   [0.8745098  0.63529412 0.78039216]]\n",
      "\n",
      "  [[1.         0.91764706 1.        ]\n",
      "   [1.         0.91372549 1.        ]\n",
      "   [0.99607843 0.89411765 0.98431373]\n",
      "   ...\n",
      "   [0.94509804 0.71372549 0.85490196]\n",
      "   [0.90980392 0.67058824 0.79607843]\n",
      "   [0.82745098 0.57647059 0.72156863]]\n",
      "\n",
      "  ...\n",
      "\n",
      "  [[1.         0.8627451  0.98823529]\n",
      "   [0.98039216 0.81176471 0.93333333]\n",
      "   [0.96862745 0.79215686 0.90588235]\n",
      "   ...\n",
      "   [0.82352941 0.48235294 0.59215686]\n",
      "   [0.77647059 0.44313725 0.54509804]\n",
      "   [0.72156863 0.39607843 0.48627451]]\n",
      "\n",
      "  [[0.98431373 0.82745098 0.95294118]\n",
      "   [0.94509804 0.78039216 0.89411765]\n",
      "   [0.92156863 0.75686275 0.85490196]\n",
      "   ...\n",
      "   [0.86666667 0.51372549 0.62745098]\n",
      "   [0.83921569 0.49803922 0.59607843]\n",
      "   [0.82352941 0.48627451 0.57647059]]\n",
      "\n",
      "  [[0.91764706 0.70196078 0.84705882]\n",
      "   [0.85882353 0.69019608 0.81960784]\n",
      "   [0.89019608 0.72941176 0.85098039]\n",
      "   ...\n",
      "   [0.87843137 0.52941176 0.62352941]\n",
      "   [0.89411765 0.54901961 0.63529412]\n",
      "   [0.91764706 0.57254902 0.6627451 ]]]\n",
      "\n",
      "\n",
      " [[[0.85882353 0.62745098 0.83529412]\n",
      "   [0.92156863 0.69411765 0.8627451 ]\n",
      "   [0.8745098  0.64705882 0.81176471]\n",
      "   ...\n",
      "   [0.95294118 0.93333333 0.94509804]\n",
      "   [0.95686275 0.93333333 0.94901961]\n",
      "   [0.95686275 0.93333333 0.94901961]]\n",
      "\n",
      "  [[0.84313725 0.60784314 0.81568627]\n",
      "   [0.90196078 0.6745098  0.84313725]\n",
      "   [0.89411765 0.66666667 0.83137255]\n",
      "   ...\n",
      "   [0.95686275 0.9372549  0.94901961]\n",
      "   [0.96078431 0.9372549  0.95294118]\n",
      "   [0.95294118 0.93333333 0.94901961]]\n",
      "\n",
      "  [[0.81960784 0.59215686 0.79607843]\n",
      "   [0.87843137 0.64705882 0.82352941]\n",
      "   [0.91764706 0.69019608 0.85882353]\n",
      "   ...\n",
      "   [0.95294118 0.92941176 0.94509804]\n",
      "   [0.94509804 0.91764706 0.9372549 ]\n",
      "   [0.94509804 0.92156863 0.94117647]]\n",
      "\n",
      "  ...\n",
      "\n",
      "  [[0.80392157 0.61960784 0.83529412]\n",
      "   [0.84705882 0.68235294 0.88627451]\n",
      "   [0.85098039 0.70980392 0.89411765]\n",
      "   ...\n",
      "   [0.78823529 0.57647059 0.74509804]\n",
      "   [0.76862745 0.55686275 0.72941176]\n",
      "   [0.78431373 0.56862745 0.74509804]]\n",
      "\n",
      "  [[0.89411765 0.70196078 0.90588235]\n",
      "   [0.93333333 0.75686275 0.94901961]\n",
      "   [0.89803922 0.7372549  0.91372549]\n",
      "   ...\n",
      "   [0.89411765 0.6627451  0.83529412]\n",
      "   [0.81568627 0.58431373 0.75294118]\n",
      "   [0.78039216 0.54901961 0.72156863]]\n",
      "\n",
      "  [[0.89411765 0.69019608 0.88627451]\n",
      "   [0.98039216 0.78823529 0.96862745]\n",
      "   [0.9372549  0.76470588 0.94117647]\n",
      "   ...\n",
      "   [0.94509804 0.71764706 0.90196078]\n",
      "   [0.90980392 0.67843137 0.85882353]\n",
      "   [0.83921569 0.60784314 0.78431373]]]]\n"
     ]
    }
   ],
   "source": [
    "# X is value of images numpy array\n",
    "X = np.asarray(train_balanced['image'].tolist())\n",
    "\n",
    "# Scale values to 0:1\n",
    "X = X/255.\n",
    "\n",
    "print(X)"
   ]
  },
  {
   "cell_type": "code",
   "execution_count": 18,
   "metadata": {},
   "outputs": [
    {
     "data": {
      "text/plain": [
       "(16316, 32, 32, 3)"
      ]
     },
     "execution_count": 18,
     "metadata": {},
     "output_type": "execute_result"
    }
   ],
   "source": [
    "# check the shape of X\n",
    "X.shape"
   ]
  },
  {
   "cell_type": "code",
   "execution_count": 19,
   "metadata": {},
   "outputs": [],
   "source": [
    "# reshape X\n",
    "X = X.reshape((4079*4, 32*32*3))"
   ]
  },
  {
   "cell_type": "code",
   "execution_count": 20,
   "metadata": {},
   "outputs": [
    {
     "data": {
      "text/plain": [
       "(16316, 3072)"
      ]
     },
     "execution_count": 20,
     "metadata": {},
     "output_type": "execute_result"
    }
   ],
   "source": [
    "# check the shape of X after reshape\n",
    "X.shape"
   ]
  },
  {
   "cell_type": "code",
   "execution_count": 21,
   "metadata": {},
   "outputs": [],
   "source": [
    "# Assign the label values to Y\n",
    "Y = train_balanced['cellType']"
   ]
  },
  {
   "cell_type": "code",
   "execution_count": 24,
   "metadata": {},
   "outputs": [
    {
     "name": "stdout",
     "output_type": "stream",
     "text": [
      "X_train shape (13052, 3072)\n",
      "y_train shape (13052,)\n",
      "X_test shape (3264, 3072)\n",
      "y_train shape (3264,)\n"
     ]
    }
   ],
   "source": [
    "# Split data 80% training, 20% testing\n",
    "x_train, x_test, y_train, y_test = train_test_split(X, Y, test_size=0.2, random_state=42)\n",
    "\n",
    "print(\"X_train shape\", x_train.shape)\n",
    "print(\"y_train shape\", y_train.shape)\n",
    "print(\"X_test shape\", x_test.shape)\n",
    "print(\"y_train shape\", y_test.shape)"
   ]
  },
  {
   "cell_type": "markdown",
   "metadata": {},
   "source": [
    "# Build K-nearest neighbors Model and Training model"
   ]
  },
  {
   "cell_type": "code",
   "execution_count": 23,
   "metadata": {},
   "outputs": [
    {
     "name": "stdout",
     "output_type": "stream",
     "text": [
      "Training Accuracy is : 78.33282255593012\n",
      "Testing Accuracy is : 64.70588235294117\n",
      "              precision    recall  f1-score   support\n",
      "\n",
      "           0       0.50      0.89      0.64       808\n",
      "           1       0.80      0.55      0.65       827\n",
      "           2       0.72      0.62      0.67       836\n",
      "           3       0.80      0.52      0.63       793\n",
      "\n",
      "    accuracy                           0.65      3264\n",
      "   macro avg       0.70      0.65      0.65      3264\n",
      "weighted avg       0.70      0.65      0.65      3264\n",
      "\n",
      "[[723  27  37  21]\n",
      " [225 454  88  60]\n",
      " [274  20 519  23]\n",
      " [234  65  78 416]]\n"
     ]
    }
   ],
   "source": [
    "# Create KNeighbors\n",
    "knn_cf = KNeighborsClassifier()\n",
    "\n",
    "# Start training\n",
    "knn_cf.fit(x_train, y_train)\n",
    "\n",
    "# Prediction\n",
    "y_pred = knn_cf.predict(x_test)\n",
    "\n",
    "# Get Training accuracy score\n",
    "print(\"Training Accuracy is :\", knn_cf.score(x_train, y_train)*100)\n",
    "\n",
    "# Get Testing accuracy score\n",
    "print(\"Testing Accuracy is :\", knn_cf.score(x_test, y_test)*100)\n",
    "# print out classification report\n",
    "print(classification_report(y_test, y_pred))\n",
    "\n",
    "# print confusion matrix\n",
    "print(confusion_matrix(y_test, y_pred))"
   ]
  }
 ],
 "metadata": {
  "kernelspec": {
   "display_name": "Python 3",
   "language": "python",
   "name": "python3"
  },
  "language_info": {
   "codemirror_mode": {
    "name": "ipython",
    "version": 3
   },
   "file_extension": ".py",
   "mimetype": "text/x-python",
   "name": "python",
   "nbconvert_exporter": "python",
   "pygments_lexer": "ipython3",
   "version": "3.8.5"
  }
 },
 "nbformat": 4,
 "nbformat_minor": 4
}
