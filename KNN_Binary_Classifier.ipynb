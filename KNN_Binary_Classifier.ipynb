{
 "cells": [
  {
   "cell_type": "code",
   "execution_count": 1,
   "metadata": {},
   "outputs": [],
   "source": [
    "import pandas as pd\n",
    "import numpy as np\n",
    "import matplotlib.pyplot as plt\n",
    "import random\n",
    "import os\n",
    "from glob import glob\n",
    "import seaborn as sns\n",
    "from PIL import Image\n",
    "import keras\n",
    "from sklearn.model_selection import train_test_split\n",
    "from scipy import stats\n",
    "from sklearn.utils import resample\n",
    "from sklearn.metrics import classification_report, confusion_matrix\n",
    "from sklearn.neighbors import KNeighborsClassifier\n",
    "\n",
    "\n",
    "# Size default\n",
    "SIZE = 32"
   ]
  },
  {
   "cell_type": "markdown",
   "metadata": {},
   "source": [
    "# Loading dataset"
   ]
  },
  {
   "cell_type": "code",
   "execution_count": 2,
   "metadata": {},
   "outputs": [
    {
     "data": {
      "text/html": [
       "<div>\n",
       "<style scoped>\n",
       "    .dataframe tbody tr th:only-of-type {\n",
       "        vertical-align: middle;\n",
       "    }\n",
       "\n",
       "    .dataframe tbody tr th {\n",
       "        vertical-align: top;\n",
       "    }\n",
       "\n",
       "    .dataframe thead th {\n",
       "        text-align: right;\n",
       "    }\n",
       "</style>\n",
       "<table border=\"1\" class=\"dataframe\">\n",
       "  <thead>\n",
       "    <tr style=\"text-align: right;\">\n",
       "      <th></th>\n",
       "      <th>InstanceID</th>\n",
       "      <th>patientID</th>\n",
       "      <th>ImageName</th>\n",
       "      <th>cellTypeName</th>\n",
       "      <th>cellType</th>\n",
       "      <th>isCancerous</th>\n",
       "    </tr>\n",
       "  </thead>\n",
       "  <tbody>\n",
       "    <tr>\n",
       "      <th>0</th>\n",
       "      <td>22405</td>\n",
       "      <td>1</td>\n",
       "      <td>22405.png</td>\n",
       "      <td>fibroblast</td>\n",
       "      <td>0</td>\n",
       "      <td>0</td>\n",
       "    </tr>\n",
       "    <tr>\n",
       "      <th>1</th>\n",
       "      <td>22406</td>\n",
       "      <td>1</td>\n",
       "      <td>22406.png</td>\n",
       "      <td>fibroblast</td>\n",
       "      <td>0</td>\n",
       "      <td>0</td>\n",
       "    </tr>\n",
       "    <tr>\n",
       "      <th>2</th>\n",
       "      <td>22407</td>\n",
       "      <td>1</td>\n",
       "      <td>22407.png</td>\n",
       "      <td>fibroblast</td>\n",
       "      <td>0</td>\n",
       "      <td>0</td>\n",
       "    </tr>\n",
       "    <tr>\n",
       "      <th>3</th>\n",
       "      <td>22408</td>\n",
       "      <td>1</td>\n",
       "      <td>22408.png</td>\n",
       "      <td>fibroblast</td>\n",
       "      <td>0</td>\n",
       "      <td>0</td>\n",
       "    </tr>\n",
       "    <tr>\n",
       "      <th>4</th>\n",
       "      <td>22409</td>\n",
       "      <td>1</td>\n",
       "      <td>22409.png</td>\n",
       "      <td>fibroblast</td>\n",
       "      <td>0</td>\n",
       "      <td>0</td>\n",
       "    </tr>\n",
       "  </tbody>\n",
       "</table>\n",
       "</div>"
      ],
      "text/plain": [
       "   InstanceID  patientID  ImageName cellTypeName  cellType  isCancerous\n",
       "0       22405          1  22405.png   fibroblast         0            0\n",
       "1       22406          1  22406.png   fibroblast         0            0\n",
       "2       22407          1  22407.png   fibroblast         0            0\n",
       "3       22408          1  22408.png   fibroblast         0            0\n",
       "4       22409          1  22409.png   fibroblast         0            0"
      ]
     },
     "execution_count": 2,
     "metadata": {},
     "output_type": "execute_result"
    }
   ],
   "source": [
    "# read the training dataset\n",
    "train = pd.read_csv('data_labels_mainData.csv')\n",
    "\n",
    "# display the first 5 rows\n",
    "train.head()"
   ]
  },
  {
   "cell_type": "code",
   "execution_count": 3,
   "metadata": {},
   "outputs": [
    {
     "data": {
      "text/plain": [
       "Text(0.5, 1.0, 'isCancerous')"
      ]
     },
     "execution_count": 3,
     "metadata": {},
     "output_type": "execute_result"
    },
    {
     "data": {
      "image/png": "[encoded data removed]",
      "text/plain": [
       "<Figure size 2160x1440 with 1 Axes>"
      ]
     },
     "metadata": {
      "needs_background": "light"
     },
     "output_type": "display_data"
    }
   ],
   "source": [
    "# Plot the datagram represent the number of data of cancerous and non-cancerous \n",
    "fig = plt.figure(figsize=(30,20))\n",
    "ax1=fig.add_subplot(221)\n",
    "train['isCancerous'].value_counts().plot(kind='bar', ax=ax1)\n",
    "ax1.set_ylabel('count')\n",
    "ax1.set_title('isCancerous')"
   ]
  },
  {
   "cell_type": "code",
   "execution_count": 4,
   "metadata": {},
   "outputs": [
    {
     "data": {
      "text/plain": [
       "0    5817\n",
       "1    4079\n",
       "Name: isCancerous, dtype: int64"
      ]
     },
     "execution_count": 4,
     "metadata": {},
     "output_type": "execute_result"
    }
   ],
   "source": [
    "# count value of 2 classes\n",
    "train.isCancerous.value_counts()"
   ]
  },
  {
   "cell_type": "markdown",
   "metadata": {},
   "source": [
    "# Data Preparation and Processing"
   ]
  },
  {
   "cell_type": "code",
   "execution_count": 5,
   "metadata": {},
   "outputs": [],
   "source": [
    "# define new dataframe to store data of each class\n",
    "train_0 = train[train['isCancerous'] == 0]\n",
    "train_1 = train[train['isCancerous'] == 1]"
   ]
  },
  {
   "cell_type": "code",
   "execution_count": 6,
   "metadata": {},
   "outputs": [],
   "source": [
    "# set the number of data of class 1 = number of data of class 0 (balance data)\n",
    "train_1_balanced = resample(train_1, replace=True, n_samples = len(train_0), random_state = 42)"
   ]
  },
  {
   "cell_type": "code",
   "execution_count": 7,
   "metadata": {},
   "outputs": [],
   "source": [
    "# combine back to a single dataframe\n",
    "train_balanced = pd.concat([train_0,train_1_balanced])"
   ]
  },
  {
   "cell_type": "code",
   "execution_count": 8,
   "metadata": {},
   "outputs": [
    {
     "name": "stdout",
     "output_type": "stream",
     "text": [
      "1    5817\n",
      "0    5817\n",
      "Name: isCancerous, dtype: int64\n"
     ]
    }
   ],
   "source": [
    "# check the distribution: 2 classes should be balanced \n",
    "print(train_balanced['isCancerous'].value_counts())"
   ]
  },
  {
   "cell_type": "code",
   "execution_count": 9,
   "metadata": {},
   "outputs": [
    {
     "data": {
      "text/plain": [
       "(11634, 6)"
      ]
     },
     "execution_count": 9,
     "metadata": {},
     "output_type": "execute_result"
    }
   ],
   "source": [
    "# shape of dataframe\n",
    "train_balanced.shape"
   ]
  },
  {
   "cell_type": "code",
   "execution_count": 10,
   "metadata": {},
   "outputs": [
    {
     "data": {
      "text/html": [
       "<div>\n",
       "<style scoped>\n",
       "    .dataframe tbody tr th:only-of-type {\n",
       "        vertical-align: middle;\n",
       "    }\n",
       "\n",
       "    .dataframe tbody tr th {\n",
       "        vertical-align: top;\n",
       "    }\n",
       "\n",
       "    .dataframe thead th {\n",
       "        text-align: right;\n",
       "    }\n",
       "</style>\n",
       "<table border=\"1\" class=\"dataframe\">\n",
       "  <thead>\n",
       "    <tr style=\"text-align: right;\">\n",
       "      <th></th>\n",
       "      <th>InstanceID</th>\n",
       "      <th>patientID</th>\n",
       "      <th>ImageName</th>\n",
       "      <th>cellTypeName</th>\n",
       "      <th>cellType</th>\n",
       "      <th>isCancerous</th>\n",
       "    </tr>\n",
       "  </thead>\n",
       "  <tbody>\n",
       "    <tr>\n",
       "      <th>0</th>\n",
       "      <td>22405</td>\n",
       "      <td>1</td>\n",
       "      <td>22405.png</td>\n",
       "      <td>fibroblast</td>\n",
       "      <td>0</td>\n",
       "      <td>0</td>\n",
       "    </tr>\n",
       "    <tr>\n",
       "      <th>1</th>\n",
       "      <td>22406</td>\n",
       "      <td>1</td>\n",
       "      <td>22406.png</td>\n",
       "      <td>fibroblast</td>\n",
       "      <td>0</td>\n",
       "      <td>0</td>\n",
       "    </tr>\n",
       "    <tr>\n",
       "      <th>2</th>\n",
       "      <td>22407</td>\n",
       "      <td>1</td>\n",
       "      <td>22407.png</td>\n",
       "      <td>fibroblast</td>\n",
       "      <td>0</td>\n",
       "      <td>0</td>\n",
       "    </tr>\n",
       "    <tr>\n",
       "      <th>3</th>\n",
       "      <td>22408</td>\n",
       "      <td>1</td>\n",
       "      <td>22408.png</td>\n",
       "      <td>fibroblast</td>\n",
       "      <td>0</td>\n",
       "      <td>0</td>\n",
       "    </tr>\n",
       "    <tr>\n",
       "      <th>4</th>\n",
       "      <td>22409</td>\n",
       "      <td>1</td>\n",
       "      <td>22409.png</td>\n",
       "      <td>fibroblast</td>\n",
       "      <td>0</td>\n",
       "      <td>0</td>\n",
       "    </tr>\n",
       "  </tbody>\n",
       "</table>\n",
       "</div>"
      ],
      "text/plain": [
       "   InstanceID  patientID  ImageName cellTypeName  cellType  isCancerous\n",
       "0       22405          1  22405.png   fibroblast         0            0\n",
       "1       22406          1  22406.png   fibroblast         0            0\n",
       "2       22407          1  22407.png   fibroblast         0            0\n",
       "3       22408          1  22408.png   fibroblast         0            0\n",
       "4       22409          1  22409.png   fibroblast         0            0"
      ]
     },
     "execution_count": 10,
     "metadata": {},
     "output_type": "execute_result"
    }
   ],
   "source": [
    "# display the first 5 rows of the new dataframe\n",
    "train_balanced.head()"
   ]
  },
  {
   "cell_type": "code",
   "execution_count": 11,
   "metadata": {},
   "outputs": [],
   "source": [
    "# drop unused columns\n",
    "train_balanced = train_balanced.drop(['InstanceID', 'patientID',\"cellTypeName\",\"cellType\"], axis = 1)"
   ]
  },
  {
   "cell_type": "code",
   "execution_count": 12,
   "metadata": {},
   "outputs": [
    {
     "data": {
      "text/html": [
       "<div>\n",
       "<style scoped>\n",
       "    .dataframe tbody tr th:only-of-type {\n",
       "        vertical-align: middle;\n",
       "    }\n",
       "\n",
       "    .dataframe tbody tr th {\n",
       "        vertical-align: top;\n",
       "    }\n",
       "\n",
       "    .dataframe thead th {\n",
       "        text-align: right;\n",
       "    }\n",
       "</style>\n",
       "<table border=\"1\" class=\"dataframe\">\n",
       "  <thead>\n",
       "    <tr style=\"text-align: right;\">\n",
       "      <th></th>\n",
       "      <th>ImageName</th>\n",
       "      <th>isCancerous</th>\n",
       "    </tr>\n",
       "  </thead>\n",
       "  <tbody>\n",
       "    <tr>\n",
       "      <th>0</th>\n",
       "      <td>22405.png</td>\n",
       "      <td>0</td>\n",
       "    </tr>\n",
       "    <tr>\n",
       "      <th>1</th>\n",
       "      <td>22406.png</td>\n",
       "      <td>0</td>\n",
       "    </tr>\n",
       "    <tr>\n",
       "      <th>2</th>\n",
       "      <td>22407.png</td>\n",
       "      <td>0</td>\n",
       "    </tr>\n",
       "    <tr>\n",
       "      <th>3</th>\n",
       "      <td>22408.png</td>\n",
       "      <td>0</td>\n",
       "    </tr>\n",
       "    <tr>\n",
       "      <th>4</th>\n",
       "      <td>22409.png</td>\n",
       "      <td>0</td>\n",
       "    </tr>\n",
       "  </tbody>\n",
       "</table>\n",
       "</div>"
      ],
      "text/plain": [
       "   ImageName  isCancerous\n",
       "0  22405.png            0\n",
       "1  22406.png            0\n",
       "2  22407.png            0\n",
       "3  22408.png            0\n",
       "4  22409.png            0"
      ]
     },
     "execution_count": 12,
     "metadata": {},
     "output_type": "execute_result"
    }
   ],
   "source": [
    "# dataframe after dropping column\n",
    "train_balanced.head()"
   ]
  },
  {
   "cell_type": "code",
   "execution_count": 13,
   "metadata": {},
   "outputs": [
    {
     "data": {
      "text/html": [
       "<div>\n",
       "<style scoped>\n",
       "    .dataframe tbody tr th:only-of-type {\n",
       "        vertical-align: middle;\n",
       "    }\n",
       "\n",
       "    .dataframe tbody tr th {\n",
       "        vertical-align: top;\n",
       "    }\n",
       "\n",
       "    .dataframe thead th {\n",
       "        text-align: right;\n",
       "    }\n",
       "</style>\n",
       "<table border=\"1\" class=\"dataframe\">\n",
       "  <thead>\n",
       "    <tr style=\"text-align: right;\">\n",
       "      <th></th>\n",
       "      <th>ImageName</th>\n",
       "      <th>isCancerous</th>\n",
       "      <th>path</th>\n",
       "    </tr>\n",
       "  </thead>\n",
       "  <tbody>\n",
       "    <tr>\n",
       "      <th>0</th>\n",
       "      <td>22405.png</td>\n",
       "      <td>0</td>\n",
       "      <td>patch_images/22405.png</td>\n",
       "    </tr>\n",
       "    <tr>\n",
       "      <th>1</th>\n",
       "      <td>22406.png</td>\n",
       "      <td>0</td>\n",
       "      <td>patch_images/22406.png</td>\n",
       "    </tr>\n",
       "    <tr>\n",
       "      <th>2</th>\n",
       "      <td>22407.png</td>\n",
       "      <td>0</td>\n",
       "      <td>patch_images/22407.png</td>\n",
       "    </tr>\n",
       "    <tr>\n",
       "      <th>3</th>\n",
       "      <td>22408.png</td>\n",
       "      <td>0</td>\n",
       "      <td>patch_images/22408.png</td>\n",
       "    </tr>\n",
       "    <tr>\n",
       "      <th>4</th>\n",
       "      <td>22409.png</td>\n",
       "      <td>0</td>\n",
       "      <td>patch_images/22409.png</td>\n",
       "    </tr>\n",
       "  </tbody>\n",
       "</table>\n",
       "</div>"
      ],
      "text/plain": [
       "   ImageName  isCancerous                    path\n",
       "0  22405.png            0  patch_images/22405.png\n",
       "1  22406.png            0  patch_images/22406.png\n",
       "2  22407.png            0  patch_images/22407.png\n",
       "3  22408.png            0  patch_images/22408.png\n",
       "4  22409.png            0  patch_images/22409.png"
      ]
     },
     "execution_count": 13,
     "metadata": {},
     "output_type": "execute_result"
    }
   ],
   "source": [
    "# read images based on ImageName from CSV file\n",
    "path = \"patch_images/\"\n",
    "\n",
    "# define the path and add as a new column \n",
    "train_balanced['path'] = path + train_balanced['ImageName']\n",
    "\n",
    "# check the dataframe\n",
    "train_balanced.head()"
   ]
  },
  {
   "cell_type": "code",
   "execution_count": 14,
   "metadata": {},
   "outputs": [],
   "source": [
    "# Use the path to read image and convert image into numpy array\n",
    "train_balanced['image'] = train_balanced['path'].map(lambda x: np.asarray(Image.open(x).resize((SIZE,SIZE))))"
   ]
  },
  {
   "cell_type": "code",
   "execution_count": 15,
   "metadata": {},
   "outputs": [
    {
     "data": {
      "text/html": [
       "<div>\n",
       "<style scoped>\n",
       "    .dataframe tbody tr th:only-of-type {\n",
       "        vertical-align: middle;\n",
       "    }\n",
       "\n",
       "    .dataframe tbody tr th {\n",
       "        vertical-align: top;\n",
       "    }\n",
       "\n",
       "    .dataframe thead th {\n",
       "        text-align: right;\n",
       "    }\n",
       "</style>\n",
       "<table border=\"1\" class=\"dataframe\">\n",
       "  <thead>\n",
       "    <tr style=\"text-align: right;\">\n",
       "      <th></th>\n",
       "      <th>ImageName</th>\n",
       "      <th>isCancerous</th>\n",
       "      <th>path</th>\n",
       "      <th>image</th>\n",
       "    </tr>\n",
       "  </thead>\n",
       "  <tbody>\n",
       "    <tr>\n",
       "      <th>0</th>\n",
       "      <td>22405.png</td>\n",
       "      <td>0</td>\n",
       "      <td>patch_images/22405.png</td>\n",
       "      <td>[[[242, 213, 237], [240, 210, 234], [236, 206,...</td>\n",
       "    </tr>\n",
       "    <tr>\n",
       "      <th>1</th>\n",
       "      <td>22406.png</td>\n",
       "      <td>0</td>\n",
       "      <td>patch_images/22406.png</td>\n",
       "      <td>[[[222, 176, 212], [224, 175, 211], [230, 181,...</td>\n",
       "    </tr>\n",
       "    <tr>\n",
       "      <th>2</th>\n",
       "      <td>22407.png</td>\n",
       "      <td>0</td>\n",
       "      <td>patch_images/22407.png</td>\n",
       "      <td>[[[247, 243, 247], [248, 242, 246], [248, 240,...</td>\n",
       "    </tr>\n",
       "    <tr>\n",
       "      <th>3</th>\n",
       "      <td>22408.png</td>\n",
       "      <td>0</td>\n",
       "      <td>patch_images/22408.png</td>\n",
       "      <td>[[[243, 242, 242], [243, 241, 241], [243, 241,...</td>\n",
       "    </tr>\n",
       "    <tr>\n",
       "      <th>4</th>\n",
       "      <td>22409.png</td>\n",
       "      <td>0</td>\n",
       "      <td>patch_images/22409.png</td>\n",
       "      <td>[[[188, 129, 188], [187, 127, 185], [186, 126,...</td>\n",
       "    </tr>\n",
       "    <tr>\n",
       "      <th>...</th>\n",
       "      <td>...</td>\n",
       "      <td>...</td>\n",
       "      <td>...</td>\n",
       "      <td>...</td>\n",
       "    </tr>\n",
       "    <tr>\n",
       "      <th>6865</th>\n",
       "      <td>4043.png</td>\n",
       "      <td>1</td>\n",
       "      <td>patch_images/4043.png</td>\n",
       "      <td>[[[164, 114, 183], [181, 134, 201], [215, 170,...</td>\n",
       "    </tr>\n",
       "    <tr>\n",
       "      <th>2353</th>\n",
       "      <td>3066.png</td>\n",
       "      <td>1</td>\n",
       "      <td>patch_images/3066.png</td>\n",
       "      <td>[[[95, 60, 161], [134, 100, 190], [190, 158, 2...</td>\n",
       "    </tr>\n",
       "    <tr>\n",
       "      <th>6492</th>\n",
       "      <td>8264.png</td>\n",
       "      <td>1</td>\n",
       "      <td>patch_images/8264.png</td>\n",
       "      <td>[[[211, 176, 225], [190, 147, 207], [193, 150,...</td>\n",
       "    </tr>\n",
       "    <tr>\n",
       "      <th>2905</th>\n",
       "      <td>8830.png</td>\n",
       "      <td>1</td>\n",
       "      <td>patch_images/8830.png</td>\n",
       "      <td>[[[246, 244, 244], [245, 243, 242], [252, 248,...</td>\n",
       "    </tr>\n",
       "    <tr>\n",
       "      <th>3234</th>\n",
       "      <td>8509.png</td>\n",
       "      <td>1</td>\n",
       "      <td>patch_images/8509.png</td>\n",
       "      <td>[[[121, 74, 170], [113, 63, 167], [126, 76, 17...</td>\n",
       "    </tr>\n",
       "  </tbody>\n",
       "</table>\n",
       "<p>11634 rows × 4 columns</p>\n",
       "</div>"
      ],
      "text/plain": [
       "      ImageName  isCancerous                    path  \\\n",
       "0     22405.png            0  patch_images/22405.png   \n",
       "1     22406.png            0  patch_images/22406.png   \n",
       "2     22407.png            0  patch_images/22407.png   \n",
       "3     22408.png            0  patch_images/22408.png   \n",
       "4     22409.png            0  patch_images/22409.png   \n",
       "...         ...          ...                     ...   \n",
       "6865   4043.png            1   patch_images/4043.png   \n",
       "2353   3066.png            1   patch_images/3066.png   \n",
       "6492   8264.png            1   patch_images/8264.png   \n",
       "2905   8830.png            1   patch_images/8830.png   \n",
       "3234   8509.png            1   patch_images/8509.png   \n",
       "\n",
       "                                                  image  \n",
       "0     [[[242, 213, 237], [240, 210, 234], [236, 206,...  \n",
       "1     [[[222, 176, 212], [224, 175, 211], [230, 181,...  \n",
       "2     [[[247, 243, 247], [248, 242, 246], [248, 240,...  \n",
       "3     [[[243, 242, 242], [243, 241, 241], [243, 241,...  \n",
       "4     [[[188, 129, 188], [187, 127, 185], [186, 126,...  \n",
       "...                                                 ...  \n",
       "6865  [[[164, 114, 183], [181, 134, 201], [215, 170,...  \n",
       "2353  [[[95, 60, 161], [134, 100, 190], [190, 158, 2...  \n",
       "6492  [[[211, 176, 225], [190, 147, 207], [193, 150,...  \n",
       "2905  [[[246, 244, 244], [245, 243, 242], [252, 248,...  \n",
       "3234  [[[121, 74, 170], [113, 63, 167], [126, 76, 17...  \n",
       "\n",
       "[11634 rows x 4 columns]"
      ]
     },
     "execution_count": 15,
     "metadata": {},
     "output_type": "execute_result"
    }
   ],
   "source": [
    "# check dataframe\n",
    "train_balanced"
   ]
  },
  {
   "cell_type": "code",
   "execution_count": 31,
   "metadata": {},
   "outputs": [
    {
     "data": {
      "image/png": "[encoded data removed]",
      "text/plain": [
       "<Figure size 1080x1080 with 10 Axes>"
      ]
     },
     "metadata": {
      "needs_background": "light"
     },
     "output_type": "display_data"
    }
   ],
   "source": [
    "# Plotting some images of each class\n",
    "fig, m_axs = plt.subplots(2, 5, figsize = (15, 15))\n",
    "for n_axs, (type_name, type_rows) in zip(m_axs, train_balanced.sort_values(['isCancerous']).groupby('isCancerous')):\n",
    "    n_axs[0].set_title(type_name)\n",
    "    for c_ax, (_, c_row) in zip(n_axs, type_rows.sample(5, random_state=42).iterrows()):\n",
    "        c_ax.imshow(c_row['image'])\n",
    "        c_ax.axis('off')"
   ]
  },
  {
   "cell_type": "markdown",
   "metadata": {},
   "source": [
    "# Extract Training Data using Train_Split_Test\n"
   ]
  },
  {
   "cell_type": "code",
   "execution_count": 16,
   "metadata": {},
   "outputs": [
    {
     "name": "stdout",
     "output_type": "stream",
     "text": [
      "[[[[0.94901961 0.83529412 0.92941176]\n",
      "   [0.94117647 0.82352941 0.91764706]\n",
      "   [0.9254902  0.80784314 0.90196078]\n",
      "   ...\n",
      "   [0.92156863 0.76470588 0.89019608]\n",
      "   [0.92941176 0.76862745 0.89803922]\n",
      "   [0.92941176 0.76470588 0.89803922]]\n",
      "\n",
      "  [[0.91372549 0.79215686 0.88627451]\n",
      "   [0.90196078 0.78431373 0.87843137]\n",
      "   [0.89803922 0.77647059 0.87058824]\n",
      "   ...\n",
      "   [0.94117647 0.77647059 0.90980392]\n",
      "   [0.94901961 0.78431373 0.91372549]\n",
      "   [0.90588235 0.74117647 0.8745098 ]]\n",
      "\n",
      "  [[0.89019608 0.76470588 0.86666667]\n",
      "   [0.8627451  0.7372549  0.84313725]\n",
      "   [0.8627451  0.7372549  0.84313725]\n",
      "   ...\n",
      "   [0.94117647 0.77647059 0.91372549]\n",
      "   [0.92941176 0.76078431 0.90196078]\n",
      "   [0.89019608 0.72156863 0.85882353]]\n",
      "\n",
      "  ...\n",
      "\n",
      "  [[0.93333333 0.76078431 0.90588235]\n",
      "   [0.85882353 0.69019608 0.83529412]\n",
      "   [0.83529412 0.6627451  0.81568627]\n",
      "   ...\n",
      "   [0.83137255 0.64705882 0.83137255]\n",
      "   [0.77647059 0.59215686 0.77647059]\n",
      "   [0.81960784 0.64313725 0.82352941]]\n",
      "\n",
      "  [[0.96078431 0.78431373 0.92941176]\n",
      "   [0.87058824 0.69803922 0.83921569]\n",
      "   [0.85490196 0.68235294 0.83137255]\n",
      "   ...\n",
      "   [0.78823529 0.6        0.78039216]\n",
      "   [0.76470588 0.57647059 0.76078431]\n",
      "   [0.83137255 0.65490196 0.83137255]]\n",
      "\n",
      "  [[0.94509804 0.77647059 0.93333333]\n",
      "   [0.91372549 0.74117647 0.90196078]\n",
      "   [0.87843137 0.70980392 0.83921569]\n",
      "   ...\n",
      "   [0.74901961 0.54901961 0.71764706]\n",
      "   [0.71372549 0.52156863 0.69019608]\n",
      "   [0.76078431 0.57647059 0.74509804]]]\n",
      "\n",
      "\n",
      " [[[0.87058824 0.69019608 0.83137255]\n",
      "   [0.87843137 0.68627451 0.82745098]\n",
      "   [0.90196078 0.70980392 0.84705882]\n",
      "   ...\n",
      "   [0.94509804 0.85098039 0.94509804]\n",
      "   [0.94509804 0.85490196 0.94509804]\n",
      "   [0.94509804 0.85490196 0.94117647]]\n",
      "\n",
      "  [[0.80392157 0.61960784 0.78039216]\n",
      "   [0.81176471 0.61176471 0.77647059]\n",
      "   [0.8745098  0.6745098  0.83137255]\n",
      "   ...\n",
      "   [0.94901961 0.85098039 0.94901961]\n",
      "   [0.97254902 0.88235294 0.96862745]\n",
      "   [0.96470588 0.87058824 0.96078431]]\n",
      "\n",
      "  [[0.77647059 0.58431373 0.77254902]\n",
      "   [0.78431373 0.57254902 0.77254902]\n",
      "   [0.84705882 0.63529412 0.82352941]\n",
      "   ...\n",
      "   [0.90980392 0.81176471 0.90980392]\n",
      "   [0.94509804 0.85098039 0.94509804]\n",
      "   [0.9254902  0.83137255 0.9254902 ]]\n",
      "\n",
      "  ...\n",
      "\n",
      "  [[0.62352941 0.41176471 0.68235294]\n",
      "   [0.58039216 0.36862745 0.63529412]\n",
      "   [0.69411765 0.48235294 0.71372549]\n",
      "   ...\n",
      "   [0.91764706 0.78823529 0.89019608]\n",
      "   [0.92156863 0.78823529 0.89019608]\n",
      "   [0.89019608 0.75686275 0.85882353]]\n",
      "\n",
      "  [[0.58431373 0.37254902 0.6627451 ]\n",
      "   [0.58431373 0.36862745 0.65490196]\n",
      "   [0.6745098  0.47058824 0.70588235]\n",
      "   ...\n",
      "   [0.94509804 0.81568627 0.91372549]\n",
      "   [0.95294118 0.82352941 0.91764706]\n",
      "   [0.9372549  0.80392157 0.90196078]]\n",
      "\n",
      "  [[0.60392157 0.38823529 0.69803922]\n",
      "   [0.6        0.38431373 0.67843137]\n",
      "   [0.65882353 0.45098039 0.69803922]\n",
      "   ...\n",
      "   [0.94901961 0.81568627 0.91372549]\n",
      "   [0.97647059 0.84313725 0.94117647]\n",
      "   [0.99607843 0.8627451  0.96078431]]]\n",
      "\n",
      "\n",
      " [[[0.96862745 0.95294118 0.96862745]\n",
      "   [0.97254902 0.94901961 0.96470588]\n",
      "   [0.97254902 0.94117647 0.96078431]\n",
      "   ...\n",
      "   [0.58823529 0.38431373 0.64705882]\n",
      "   [0.58431373 0.38039216 0.64313725]\n",
      "   [0.60392157 0.4        0.6627451 ]]\n",
      "\n",
      "  [[0.97254902 0.95686275 0.97254902]\n",
      "   [0.98039216 0.96078431 0.98039216]\n",
      "   [0.98431373 0.95294118 0.97254902]\n",
      "   ...\n",
      "   [0.60784314 0.4        0.6627451 ]\n",
      "   [0.57647059 0.37254902 0.63137255]\n",
      "   [0.61960784 0.41568627 0.6745098 ]]\n",
      "\n",
      "  [[0.96470588 0.94901961 0.96470588]\n",
      "   [0.96862745 0.95294118 0.96862745]\n",
      "   [0.97647059 0.95294118 0.96862745]\n",
      "   ...\n",
      "   [0.73333333 0.52941176 0.77254902]\n",
      "   [0.63921569 0.43529412 0.68235294]\n",
      "   [0.63921569 0.43921569 0.68235294]]\n",
      "\n",
      "  ...\n",
      "\n",
      "  [[0.89411765 0.82352941 0.90196078]\n",
      "   [0.89803922 0.81568627 0.90196078]\n",
      "   [0.89803922 0.81960784 0.90196078]\n",
      "   ...\n",
      "   [0.70196078 0.48627451 0.71764706]\n",
      "   [0.75294118 0.53333333 0.76470588]\n",
      "   [0.8627451  0.63921569 0.87058824]]\n",
      "\n",
      "  [[0.89019608 0.81960784 0.90196078]\n",
      "   [0.89803922 0.81960784 0.90196078]\n",
      "   [0.89803922 0.81568627 0.89803922]\n",
      "   ...\n",
      "   [0.68627451 0.47058824 0.70588235]\n",
      "   [0.78039216 0.56470588 0.79215686]\n",
      "   [0.85098039 0.63137255 0.85490196]]\n",
      "\n",
      "  [[0.87843137 0.80784314 0.89019608]\n",
      "   [0.87058824 0.79607843 0.87843137]\n",
      "   [0.8745098  0.79215686 0.8745098 ]\n",
      "   ...\n",
      "   [0.68235294 0.46666667 0.72941176]\n",
      "   [0.75294118 0.5372549  0.78823529]\n",
      "   [0.74117647 0.5254902  0.76078431]]]\n",
      "\n",
      "\n",
      " ...\n",
      "\n",
      "\n",
      " [[[0.82745098 0.69019608 0.88235294]\n",
      "   [0.74509804 0.57647059 0.81176471]\n",
      "   [0.75686275 0.58823529 0.83921569]\n",
      "   ...\n",
      "   [0.50196078 0.36470588 0.72156863]\n",
      "   [0.65490196 0.50588235 0.83137255]\n",
      "   [0.59607843 0.46666667 0.78039216]]\n",
      "\n",
      "  [[0.91764706 0.77647059 0.96078431]\n",
      "   [0.86666667 0.69803922 0.90196078]\n",
      "   [0.7254902  0.55686275 0.78431373]\n",
      "   ...\n",
      "   [0.41960784 0.29019608 0.65490196]\n",
      "   [0.53333333 0.38823529 0.71764706]\n",
      "   [0.51372549 0.38431373 0.70588235]]\n",
      "\n",
      "  [[0.88235294 0.7372549  0.93333333]\n",
      "   [0.89803922 0.7254902  0.93333333]\n",
      "   [0.73333333 0.56078431 0.79607843]\n",
      "   ...\n",
      "   [0.54117647 0.41176471 0.74509804]\n",
      "   [0.58823529 0.45098039 0.75294118]\n",
      "   [0.55686275 0.43137255 0.72941176]]\n",
      "\n",
      "  ...\n",
      "\n",
      "  [[0.87058824 0.77647059 0.94901961]\n",
      "   [0.94117647 0.85490196 0.99607843]\n",
      "   [0.86666667 0.76470588 0.96078431]\n",
      "   ...\n",
      "   [0.83921569 0.75686275 0.89019608]\n",
      "   [1.         0.97647059 1.        ]\n",
      "   [0.99607843 0.97647059 1.        ]]\n",
      "\n",
      "  [[0.56078431 0.42745098 0.76470588]\n",
      "   [0.67843137 0.56470588 0.8745098 ]\n",
      "   [0.81960784 0.70196078 0.96078431]\n",
      "   ...\n",
      "   [0.87843137 0.80392157 0.91764706]\n",
      "   [1.         0.99215686 1.        ]\n",
      "   [0.99607843 0.98039216 1.        ]]\n",
      "\n",
      "  [[0.43137255 0.30196078 0.62745098]\n",
      "   [0.49019608 0.37254902 0.6745098 ]\n",
      "   [0.69411765 0.57647059 0.84313725]\n",
      "   ...\n",
      "   [0.8745098  0.81176471 0.90588235]\n",
      "   [1.         0.99215686 1.        ]\n",
      "   [0.99607843 0.98039216 1.        ]]]\n",
      "\n",
      "\n",
      " [[[0.96470588 0.95686275 0.95686275]\n",
      "   [0.96078431 0.95294118 0.94901961]\n",
      "   [0.98823529 0.97254902 0.98039216]\n",
      "   ...\n",
      "   [0.71764706 0.55294118 0.85882353]\n",
      "   [0.63529412 0.46666667 0.76862745]\n",
      "   [0.61960784 0.44313725 0.74509804]]\n",
      "\n",
      "  [[0.96862745 0.95294118 0.96470588]\n",
      "   [0.97254902 0.94901961 0.96078431]\n",
      "   [0.98039216 0.94901961 0.96862745]\n",
      "   ...\n",
      "   [0.62745098 0.4627451  0.77647059]\n",
      "   [0.63529412 0.4627451  0.77254902]\n",
      "   [0.65490196 0.4745098  0.78431373]]\n",
      "\n",
      "  [[0.9372549  0.91372549 0.93333333]\n",
      "   [0.94509804 0.91372549 0.93333333]\n",
      "   [0.9372549  0.89411765 0.9254902 ]\n",
      "   ...\n",
      "   [0.57647059 0.41568627 0.72156863]\n",
      "   [0.58039216 0.40784314 0.7254902 ]\n",
      "   [0.62745098 0.44705882 0.76470588]]\n",
      "\n",
      "  ...\n",
      "\n",
      "  [[0.99215686 0.92941176 0.98823529]\n",
      "   [0.99607843 0.91372549 0.99607843]\n",
      "   [0.96862745 0.85882353 0.98431373]\n",
      "   ...\n",
      "   [0.55686275 0.39215686 0.74117647]\n",
      "   [0.58431373 0.41960784 0.79215686]\n",
      "   [0.57254902 0.40392157 0.78823529]]\n",
      "\n",
      "  [[0.96470588 0.88235294 0.94901961]\n",
      "   [0.96470588 0.87058824 0.96078431]\n",
      "   [0.94509804 0.83921569 0.96470588]\n",
      "   ...\n",
      "   [0.50588235 0.34901961 0.67058824]\n",
      "   [0.55686275 0.39607843 0.76470588]\n",
      "   [0.5254902  0.35686275 0.74509804]]\n",
      "\n",
      "  [[0.92941176 0.84313725 0.91372549]\n",
      "   [0.90980392 0.81960784 0.90980392]\n",
      "   [0.89019608 0.79607843 0.90980392]\n",
      "   ...\n",
      "   [0.56862745 0.41960784 0.71764706]\n",
      "   [0.6        0.43921569 0.80392157]\n",
      "   [0.5254902  0.35686275 0.75294118]]]\n",
      "\n",
      "\n",
      " [[[0.4745098  0.29019608 0.66666667]\n",
      "   [0.44313725 0.24705882 0.65490196]\n",
      "   [0.49411765 0.29803922 0.68627451]\n",
      "   ...\n",
      "   [0.41176471 0.23137255 0.56862745]\n",
      "   [0.58431373 0.40392157 0.7372549 ]\n",
      "   [0.58431373 0.40392157 0.73333333]]\n",
      "\n",
      "  [[0.71372549 0.51372549 0.85882353]\n",
      "   [0.54117647 0.33333333 0.68627451]\n",
      "   [0.4627451  0.2627451  0.59607843]\n",
      "   ...\n",
      "   [0.55294118 0.37647059 0.66666667]\n",
      "   [0.71372549 0.53333333 0.83921569]\n",
      "   [0.74509804 0.56470588 0.88235294]]\n",
      "\n",
      "  [[0.82745098 0.60784314 0.94117647]\n",
      "   [0.7254902  0.50980392 0.85098039]\n",
      "   [0.59215686 0.37254902 0.70980392]\n",
      "   ...\n",
      "   [0.78039216 0.60392157 0.86666667]\n",
      "   [0.82745098 0.64705882 0.92941176]\n",
      "   [0.84705882 0.66666667 0.96862745]]\n",
      "\n",
      "  ...\n",
      "\n",
      "  [[0.85882353 0.69019608 0.87843137]\n",
      "   [0.81568627 0.64313725 0.8745098 ]\n",
      "   [0.89019608 0.69803922 0.93333333]\n",
      "   ...\n",
      "   [0.63921569 0.41568627 0.72156863]\n",
      "   [0.63137255 0.42352941 0.74509804]\n",
      "   [0.61960784 0.42745098 0.75686275]]\n",
      "\n",
      "  [[0.81960784 0.65490196 0.82745098]\n",
      "   [0.70980392 0.5254902  0.77254902]\n",
      "   [0.72941176 0.52941176 0.79607843]\n",
      "   ...\n",
      "   [0.65882353 0.43137255 0.74509804]\n",
      "   [0.63921569 0.42352941 0.75294118]\n",
      "   [0.61960784 0.42352941 0.76470588]]\n",
      "\n",
      "  [[0.83529412 0.66666667 0.82352941]\n",
      "   [0.70588235 0.52941176 0.74509804]\n",
      "   [0.67843137 0.47843137 0.72941176]\n",
      "   ...\n",
      "   [0.7372549  0.50196078 0.80392157]\n",
      "   [0.69411765 0.4627451  0.77254902]\n",
      "   [0.69019608 0.46666667 0.78431373]]]]\n"
     ]
    }
   ],
   "source": [
    "# X is value of images numpy array\n",
    "X = np.asarray(train_balanced['image'].tolist())\n",
    "\n",
    "# Scale values to 0:1\n",
    "X = X/255.\n",
    "\n",
    "print(X)"
   ]
  },
  {
   "cell_type": "code",
   "execution_count": 17,
   "metadata": {},
   "outputs": [
    {
     "data": {
      "text/plain": [
       "(11634, 32, 32, 3)"
      ]
     },
     "execution_count": 17,
     "metadata": {},
     "output_type": "execute_result"
    }
   ],
   "source": [
    "# check the shape of X\n",
    "X.shape"
   ]
  },
  {
   "cell_type": "code",
   "execution_count": 18,
   "metadata": {},
   "outputs": [],
   "source": [
    "# reshape X\n",
    "X = X.reshape((11634, 32*32*3))"
   ]
  },
  {
   "cell_type": "code",
   "execution_count": 19,
   "metadata": {},
   "outputs": [
    {
     "data": {
      "text/plain": [
       "(11634, 3072)"
      ]
     },
     "execution_count": 19,
     "metadata": {},
     "output_type": "execute_result"
    }
   ],
   "source": [
    "# check the shape of X after reshape\n",
    "X.shape"
   ]
  },
  {
   "cell_type": "code",
   "execution_count": 21,
   "metadata": {},
   "outputs": [],
   "source": [
    "# Assign the label values to Y\n",
    "Y = train_balanced['isCancerous']"
   ]
  },
  {
   "cell_type": "code",
   "execution_count": 32,
   "metadata": {},
   "outputs": [
    {
     "name": "stdout",
     "output_type": "stream",
     "text": [
      "X_train shape (9307, 3072)\n",
      "y_train shape (9307,)\n",
      "X_test shape (2327, 3072)\n",
      "y_train shape (2327,)\n"
     ]
    }
   ],
   "source": [
    "# Split data 80% training, 20% testing\n",
    "x_train, x_test, y_train, y_test = train_test_split(X, Y, test_size=0.2, random_state=42)\n",
    "\n",
    "print(\"X_train shape\", x_train.shape)\n",
    "print(\"y_train shape\", y_train.shape)\n",
    "print(\"X_test shape\", x_test.shape)\n",
    "print(\"y_train shape\", y_test.shape)"
   ]
  },
  {
   "cell_type": "markdown",
   "metadata": {},
   "source": [
    "# Build K-nearest neighbors Model and Training model"
   ]
  },
  {
   "cell_type": "code",
   "execution_count": 24,
   "metadata": {},
   "outputs": [
    {
     "name": "stdout",
     "output_type": "stream",
     "text": [
      "Training Accuracy is : 86.98828838508649\n",
      "Testing Accuracy is : 82.38074774387624\n",
      "              precision    recall  f1-score   support\n",
      "\n",
      "           0       0.89      0.75      0.81      1197\n",
      "           1       0.77      0.90      0.83      1130\n",
      "\n",
      "    accuracy                           0.82      2327\n",
      "   macro avg       0.83      0.83      0.82      2327\n",
      "weighted avg       0.83      0.82      0.82      2327\n",
      "\n",
      "F1 score is: 0.8325163398692811\n",
      "[[ 898  299]\n",
      " [ 111 1019]]\n"
     ]
    }
   ],
   "source": [
    "# Create KNeighbors\n",
    "knn_cf = KNeighborsClassifier()\n",
    "\n",
    "# Start training\n",
    "knn_cf.fit(x_train, y_train)\n",
    "\n",
    "# Prediction\n",
    "y_pred = knn_cf.predict(x_test)\n",
    "\n",
    "# Get Training accuracy score\n",
    "print(\"Training Accuracy is :\", knn_cf.score(x_train, y_train)*100)\n",
    "\n",
    "# Get Testing accuracy score\n",
    "print(\"Testing Accuracy is :\", knn_cf.score(x_test, y_test)*100)\n",
    "\n",
    "# print out classification report\n",
    "print(classification_report(y_test, y_pred))\n",
    "\n",
    "# Calcuate F1 score\n",
    "print(\"F1 score is:\", f1_score(y_pred, y_test))\n",
    "\n",
    "# print confusion matrix\n",
    "print(confusion_matrix(y_test, y_pred))"
   ]
  }
 ],
 "metadata": {
  "kernelspec": {
   "display_name": "Python 3",
   "language": "python",
   "name": "python3"
  },
  "language_info": {
   "codemirror_mode": {
    "name": "ipython",
    "version": 3
   },
   "file_extension": ".py",
   "mimetype": "text/x-python",
   "name": "python",
   "nbconvert_exporter": "python",
   "pygments_lexer": "ipython3",
   "version": "3.8.5"
  }
 },
 "nbformat": 4,
 "nbformat_minor": 4
}
